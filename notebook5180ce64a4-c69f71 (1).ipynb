{
 "cells": [
  {
   "cell_type": "markdown",
   "metadata": {},
   "source": [
    "# Подготовил Шишло Сергей и Polina Seliukh"
   ]
  },
  {
   "cell_type": "markdown",
   "metadata": {},
   "source": [
    "# Команда JPS_34_dst_20"
   ]
  },
  {
   "cell_type": "markdown",
   "metadata": {},
   "source": [
    "https://www.kaggle.com/sergejshishlo/notebook5180ce64a4-c69f71"
   ]
  },
  {
   "cell_type": "markdown",
   "metadata": {
    "papermill": {
     "duration": 0.099061,
     "end_time": "2020-11-23T21:48:47.687576",
     "exception": false,
     "start_time": "2020-11-23T21:48:47.588515",
     "status": "completed"
    },
    "tags": []
   },
   "source": [
    "# **Credit Scoring**\n",
    "\n",
    "Прогнозирование вероятности дефолта заемщика\n",
    "\n",
    "Представьте, что вы работаете стажером в отделении регионального банка. Вы все также делаете запросы к базам данных и строите отчеты. Вы поймали себя на мысли, что представляли работу дата-саентиста совсем иначе…\n",
    "\n",
    "И вот сегодня, когда вы уже были на пороге отчаяния, ваш начальник пришел к вам с долгожданной новостью. Будем строить модель!\n",
    "\n",
    "“Отлично,” – думаете вы, – “наконец-то смогу заняться настоящей работой!”\n",
    "\n",
    "Вашей задачей будет построить скоринг модель для вторичных клиентов банка, которая бы предсказывала вероятность дефолта клиента. Для этого нужно будет определить значимые параметры заемщика.\n",
    "\n",
    "Условия соревнования:\n",
    "Данное соревнование является бессрочным и доступно для всех потоков.\n",
    "\n",
    "Срок выполнения соревнования устанавливается индивидуально в каждом потоке.\n",
    "\n",
    "Тестовая выборка представлена в ЛидерБорде целиком.\n",
    "\n",
    "Поэтому лучшие и победные решения буду проверяться на их \"адекватность\" (чтоб не было подгонки под тестовую выборку).\n",
    "\n",
    "Разрешено использовать любые ML алгоритмы и библиотеки (кроме DL).\n",
    "\n",
    "Делаем реальный ML продукт, который потом сможет нормально работать на новых данных."
   ]
  },
  {
   "cell_type": "code",
   "execution_count": 81,
   "metadata": {
    "_cell_guid": "79c7e3d0-c299-4dcb-8224-4455121ee9b0",
    "_uuid": "d629ff2d2480ee46fbb7e2d37f6b5fab8052498a",
    "execution": {
     "iopub.execute_input": "2020-11-23T21:48:47.904817Z",
     "iopub.status.busy": "2020-11-23T21:48:47.903958Z",
     "iopub.status.idle": "2020-11-23T21:48:50.948764Z",
     "shell.execute_reply": "2020-11-23T21:48:50.947849Z"
    },
    "papermill": {
     "duration": 3.163523,
     "end_time": "2020-11-23T21:48:50.948930",
     "exception": false,
     "start_time": "2020-11-23T21:48:47.785407",
     "status": "completed"
    },
    "tags": []
   },
   "outputs": [],
   "source": [
    "import pandas as pd\n",
    "import matplotlib.pyplot as plt\n",
    "import seaborn as sns\n",
    "import numpy as np\n",
    "from itertools import combinations\n",
    "from scipy.stats import ttest_ind\n",
    "import statsmodels.api as sm\n",
    "import scipy.stats as sst\n",
    "import warnings\n",
    "from datetime import datetime\n",
    "import plotly.express as px\n",
    "from pandas import Series\n",
    "\n",
    "\n",
    "from sklearn.feature_selection import f_classif, mutual_info_classif\n",
    "from sklearn.preprocessing import LabelEncoder, OneHotEncoder, StandardScaler\n",
    "\n",
    "from sklearn.model_selection import train_test_split\n",
    "from sklearn.linear_model import LogisticRegression\n",
    "from sklearn.ensemble import RandomForestRegressor \n",
    "\n",
    "\n",
    "from sklearn.metrics import confusion_matrix\n",
    "from sklearn.metrics import auc, roc_auc_score, roc_curve\n",
    "\n",
    "from sklearn.preprocessing import PowerTransformer\n",
    "from sklearn.preprocessing import QuantileTransformer\n",
    "\n",
    "from sklearn.model_selection import GridSearchCV\n",
    "from sklearn.metrics import accuracy_score, precision_score, recall_score, f1_score\n",
    "from sklearn.metrics import precision_recall_curve\n",
    "from sklearn.metrics import average_precision_score\n",
    "\n",
    "import os\n",
    "for dirname, _, filenames in os.walk('/kaggle/input'):\n",
    "    for filename in filenames:\n",
    "        print(os.path.join(dirname, filename))\n",
    "%matplotlib inline"
   ]
  },
  {
   "cell_type": "markdown",
   "metadata": {
    "papermill": {
     "duration": 0.097938,
     "end_time": "2020-11-23T21:48:51.148981",
     "exception": false,
     "start_time": "2020-11-23T21:48:51.051043",
     "status": "completed"
    },
    "tags": []
   },
   "source": [
    "# 0. Подготовим функции и классы для дальнейшей работы"
   ]
  },
  {
   "cell_type": "code",
   "execution_count": 82,
   "metadata": {
    "execution": {
     "iopub.execute_input": "2020-11-23T21:48:51.370992Z",
     "iopub.status.busy": "2020-11-23T21:48:51.365791Z",
     "iopub.status.idle": "2020-11-23T21:48:51.375000Z",
     "shell.execute_reply": "2020-11-23T21:48:51.374187Z"
    },
    "papermill": {
     "duration": 0.126846,
     "end_time": "2020-11-23T21:48:51.375135",
     "exception": false,
     "start_time": "2020-11-23T21:48:51.248289",
     "status": "completed"
    },
    "tags": []
   },
   "outputs": [],
   "source": [
    " # класс для построения визуализация для числового признака и нахождения выбросов.\n",
    "\n",
    "class AnalyzNumCol():\n",
    "    def __init__(self, df, col):\n",
    "        self.df = df[col]\n",
    "        self.col = col\n",
    "        self.col_log = LogDf(df, col).col_log\n",
    "        self.df_log = LogDf(df, col).df_col_log()\n",
    "    \n",
    "    def show_plots(self, size = 5, log = False):\n",
    "        \n",
    "        if log:\n",
    "            data = self.df_log\n",
    "            column = self.col_log\n",
    "        else:\n",
    "            data = self.df\n",
    "            column = self.col\n",
    "        \n",
    "        f = plt.figure()\n",
    "        f.clear()\n",
    "        plt.close(f)\n",
    "\n",
    "        fig, (ax1, ax2, ax3) = plt.subplots(1, 3, figsize = (3*size,size))\n",
    "        \n",
    "        fig.suptitle('Histogram, QQ-plot and boxplot for {0} '.format(column))\n",
    "        ax1.hist(data.dropna(), bins = 20, histtype = 'bar', align = 'mid', rwidth = 0.8, color = 'red')\n",
    "        fig = sm.qqplot(data.dropna(), fit = True, line ='45', ax=ax2) \n",
    "        \n",
    "        \n",
    "        \n",
    "        ax3.boxplot(data.dropna(), vert = False)  # выбросы\n",
    "     \n",
    "        plt.show\n",
    "        \n",
    "    def emission_limits(self, log = False): # границы выбросов\n",
    "        if log:\n",
    "            data = self.df_log\n",
    "            column = self.col_log\n",
    "        else:\n",
    "            data = self.df\n",
    "            column = self.col\n",
    "        \n",
    "        q1 = data.quantile(q = 0.25) \n",
    "        q3 = data.quantile(q = 0.75) \n",
    "        IQR = q3 - q1\n",
    "        return q1 - 1.5*IQR, q3 + 1.5*IQR\n",
    "\n",
    "    def amount_emissions(self, log = False): \n",
    "        if log:\n",
    "            data = self.df_log\n",
    "            column = self.col_log\n",
    "        else:\n",
    "            data = self.df\n",
    "            column = self.col\n",
    "\n",
    "        minb, maxb = self.emission_limits(log)\n",
    "        return len(data[data < minb])+ len(data[data > maxb])\n",
    "\n",
    "    \n",
    "# класс логарифмирования признака\n",
    "    \n",
    "class LogDf(): \n",
    "    def __init__(self, df, col):\n",
    "        self.df = df\n",
    "        self.col = col\n",
    "        self.col_log = col + '_log'\n",
    "        \n",
    "    def df_col_log(self):      \n",
    "        return  self.df[self.col].apply(lambda x: np.log(x + 1)) "
   ]
  },
  {
   "cell_type": "code",
   "execution_count": 83,
   "metadata": {
    "execution": {
     "iopub.execute_input": "2020-11-23T21:48:51.586921Z",
     "iopub.status.busy": "2020-11-23T21:48:51.581816Z",
     "iopub.status.idle": "2020-11-23T21:48:51.612289Z",
     "shell.execute_reply": "2020-11-23T21:48:51.611485Z"
    },
    "papermill": {
     "duration": 0.139163,
     "end_time": "2020-11-23T21:48:51.612436",
     "exception": false,
     "start_time": "2020-11-23T21:48:51.473273",
     "status": "completed"
    },
    "tags": []
   },
   "outputs": [],
   "source": [
    "# метрика для оценки модели\n",
    "\n",
    "class MatrixModel(): \n",
    "    def __init__(self, model, X_test, y_test):\n",
    "        self.X_test = X_test\n",
    "        self.y_test = y_test\n",
    "        self.y_pred = model.predict(X_test)\n",
    "        self.probs = model.predict_proba(X_test)[:,1]\n",
    "    \n",
    "    def roc_curve_plot(self):\n",
    "        fpr, tpr, threshold = roc_curve(self.y_test, self.probs)\n",
    "        roc_auc = roc_auc_score(self.y_test, self.probs)\n",
    "\n",
    "        plt.figure()\n",
    "        plt.plot([0, 1], label='Baseline', linestyle='--')\n",
    "        plt.plot(fpr, tpr, label = 'Regression')\n",
    "        plt.title('Logistic Regression ROC AUC = %0.10f' % roc_auc)\n",
    "        plt.ylabel('True Positive Rate')\n",
    "        plt.xlabel('False Positive Rate')\n",
    "        plt.legend(loc = 'lower right')\n",
    "        plt.show()\n",
    "    \n",
    "    def confusion_matrix_plot(self):\n",
    "        tn, fp, fn, tp = confusion_matrix(self.y_test, self.y_pred).ravel()\n",
    "        cf_matrix = np.array([[tp,fp],[fn,tn]])\n",
    "        group_names = ['TP','FP','FN','TN']\n",
    "        group_counts = ['{0:0.0f}'.format(value) for value in cf_matrix.flatten()]\n",
    "        labels = [f\"{v1}\\n{v2}\" for v1, v2 in zip(group_names,group_counts)]\n",
    "        labels = np.asarray(labels).reshape(2,2)\n",
    "        plt.figure()\n",
    "        sns.heatmap(cf_matrix, annot=labels, annot_kws={\"size\": 20}, fmt='', cmap= 'spring', cbar = False, \\\n",
    "                 xticklabels = ['Дефолт','Не дефолт'], yticklabels= ['Дефолт','Не дефолт'])\n",
    "        plt.title('Матрица ошибок для default')\n",
    "        plt.show()\n",
    "        \n",
    "    def get_metrics(self):\n",
    "        result = pd.Series({\n",
    "            'accuracy' : accuracy_score(self.y_test, self.y_pred),\n",
    "            'precision' : precision_score(self.y_test, self.y_pred),\n",
    "            'recall' : recall_score(self.y_test, self.y_pred),\n",
    "            'F1' : f1_score(self.y_test, self.y_pred),\n",
    "            'ROC_AUC': roc_auc_score(self.y_test, self.probs) \n",
    "        })\n",
    "        return result\n",
    "    \n",
    "    def recall_precision_plot(self):\n",
    "        precisions, recalls, _ = precision_recall_curve(self.y_test, self.y_pred)\n",
    "        ap = average_precision_score(self.y_test, self.y_pred)        \n",
    "        \n",
    "        plt.figure()\n",
    "        \n",
    "        plt.step(recalls, precisions, color='b', alpha=0.2, where='post')\n",
    "        plt.fill_between(recalls, precisions, step='post', alpha=0.2, color='lime')\n",
    "        plt.xlabel('Recall');\n",
    "        plt.ylabel('Precision');\n",
    "        plt.title('Recall-precision curve, площадь под кривой = %0.10f' % ap)\n",
    "        plt.grid(True)\n",
    "\n",
    "        plt.show()"
   ]
  },
  {
   "cell_type": "markdown",
   "metadata": {
    "papermill": {
     "duration": 0.098424,
     "end_time": "2020-11-23T21:48:51.826462",
     "exception": false,
     "start_time": "2020-11-23T21:48:51.728038",
     "status": "completed"
    },
    "tags": []
   },
   "source": [
    "# **1. Импортируем данные**"
   ]
  },
  {
   "cell_type": "code",
   "execution_count": 84,
   "metadata": {
    "execution": {
     "iopub.execute_input": "2020-11-23T21:48:52.031599Z",
     "iopub.status.busy": "2020-11-23T21:48:52.030426Z",
     "iopub.status.idle": "2020-11-23T21:48:52.339259Z",
     "shell.execute_reply": "2020-11-23T21:48:52.338541Z"
    },
    "papermill": {
     "duration": 0.415333,
     "end_time": "2020-11-23T21:48:52.339418",
     "exception": false,
     "start_time": "2020-11-23T21:48:51.924085",
     "status": "completed"
    },
    "tags": []
   },
   "outputs": [],
   "source": [
    "data_directory = '/kaggle/input/sf-dst-scoring/'\n",
    "data_train = pd.read_csv('train.csv')\n",
    "data_test = pd.read_csv('test.csv')\n",
    "#sample_submission = pd.read_csv('sample_submission.csv')"
   ]
  },
  {
   "cell_type": "code",
   "execution_count": 85,
   "metadata": {
    "execution": {
     "iopub.execute_input": "2020-11-23T21:48:52.543552Z",
     "iopub.status.busy": "2020-11-23T21:48:52.540509Z",
     "iopub.status.idle": "2020-11-23T21:48:52.613411Z",
     "shell.execute_reply": "2020-11-23T21:48:52.612746Z"
    },
    "papermill": {
     "duration": 0.175924,
     "end_time": "2020-11-23T21:48:52.613538",
     "exception": false,
     "start_time": "2020-11-23T21:48:52.437614",
     "status": "completed"
    },
    "tags": []
   },
   "outputs": [
    {
     "name": "stdout",
     "output_type": "stream",
     "text": [
      "данные для обучения\n",
      "<class 'pandas.core.frame.DataFrame'>\n",
      "RangeIndex: 73799 entries, 0 to 73798\n",
      "Data columns (total 19 columns):\n",
      "client_id           73799 non-null int64\n",
      "app_date            73799 non-null object\n",
      "education           73492 non-null object\n",
      "sex                 73799 non-null object\n",
      "age                 73799 non-null int64\n",
      "car                 73799 non-null object\n",
      "car_type            73799 non-null object\n",
      "decline_app_cnt     73799 non-null int64\n",
      "good_work           73799 non-null int64\n",
      "score_bki           73799 non-null float64\n",
      "bki_request_cnt     73799 non-null int64\n",
      "region_rating       73799 non-null int64\n",
      "home_address        73799 non-null int64\n",
      "work_address        73799 non-null int64\n",
      "income              73799 non-null int64\n",
      "sna                 73799 non-null int64\n",
      "first_time          73799 non-null int64\n",
      "foreign_passport    73799 non-null object\n",
      "default             73799 non-null int64\n",
      "dtypes: float64(1), int64(12), object(6)\n",
      "memory usage: 10.7+ MB\n"
     ]
    }
   ],
   "source": [
    "print('данные для обучения')\n",
    "data_train.info()"
   ]
  },
  {
   "cell_type": "markdown",
   "metadata": {
    "papermill": {
     "duration": 0.100006,
     "end_time": "2020-11-23T21:48:52.813020",
     "exception": false,
     "start_time": "2020-11-23T21:48:52.713014",
     "status": "completed"
    },
    "tags": []
   },
   "source": [
    "**Вывод**\n",
    "\n",
    "т.к. пропуски представлены в столбце 'education' и составляют около 0.4% то данные с пропущенными значениями удалим"
   ]
  },
  {
   "cell_type": "code",
   "execution_count": 86,
   "metadata": {
    "execution": {
     "iopub.execute_input": "2020-11-23T21:48:53.042706Z",
     "iopub.status.busy": "2020-11-23T21:48:53.018140Z",
     "iopub.status.idle": "2020-11-23T21:48:53.057007Z",
     "shell.execute_reply": "2020-11-23T21:48:53.056309Z"
    },
    "papermill": {
     "duration": 0.145495,
     "end_time": "2020-11-23T21:48:53.057144",
     "exception": false,
     "start_time": "2020-11-23T21:48:52.911649",
     "status": "completed"
    },
    "tags": []
   },
   "outputs": [
    {
     "name": "stdout",
     "output_type": "stream",
     "text": [
      "данные для проверки\n",
      "<class 'pandas.core.frame.DataFrame'>\n",
      "RangeIndex: 36349 entries, 0 to 36348\n",
      "Data columns (total 18 columns):\n",
      "client_id           36349 non-null int64\n",
      "app_date            36349 non-null object\n",
      "education           36178 non-null object\n",
      "sex                 36349 non-null object\n",
      "age                 36349 non-null int64\n",
      "car                 36349 non-null object\n",
      "car_type            36349 non-null object\n",
      "decline_app_cnt     36349 non-null int64\n",
      "good_work           36349 non-null int64\n",
      "score_bki           36349 non-null float64\n",
      "bki_request_cnt     36349 non-null int64\n",
      "region_rating       36349 non-null int64\n",
      "home_address        36349 non-null int64\n",
      "work_address        36349 non-null int64\n",
      "income              36349 non-null int64\n",
      "sna                 36349 non-null int64\n",
      "first_time          36349 non-null int64\n",
      "foreign_passport    36349 non-null object\n",
      "dtypes: float64(1), int64(11), object(6)\n",
      "memory usage: 5.0+ MB\n"
     ]
    }
   ],
   "source": [
    "print('данные для проверки')\n",
    "data_test.info()"
   ]
  },
  {
   "cell_type": "markdown",
   "metadata": {
    "papermill": {
     "duration": 0.098993,
     "end_time": "2020-11-23T21:48:53.256152",
     "exception": false,
     "start_time": "2020-11-23T21:48:53.157159",
     "status": "completed"
    },
    "tags": []
   },
   "source": [
    "**Вывод**\n",
    "\n",
    "т.к. пропуски представлены в столбце 'education' и составляют около 0.4% то данные с пропущенными значениями удалим"
   ]
  },
  {
   "cell_type": "code",
   "execution_count": 87,
   "metadata": {
    "execution": {
     "iopub.execute_input": "2020-11-23T21:48:53.460731Z",
     "iopub.status.busy": "2020-11-23T21:48:53.459942Z",
     "iopub.status.idle": "2020-11-23T21:48:56.233381Z",
     "shell.execute_reply": "2020-11-23T21:48:56.232668Z"
    },
    "papermill": {
     "duration": 2.87854,
     "end_time": "2020-11-23T21:48:56.233510",
     "exception": false,
     "start_time": "2020-11-23T21:48:53.354970",
     "status": "completed"
    },
    "tags": []
   },
   "outputs": [],
   "source": [
    "# зафиксируем константы\n",
    "!pip freeze > requirements.txt\n",
    "RANDOM_SEED = 42\n",
    "CURRENT_DATE = datetime.now()"
   ]
  },
  {
   "cell_type": "code",
   "execution_count": 88,
   "metadata": {
    "execution": {
     "iopub.execute_input": "2020-11-23T21:48:56.440308Z",
     "iopub.status.busy": "2020-11-23T21:48:56.438834Z",
     "iopub.status.idle": "2020-11-23T21:48:56.509476Z",
     "shell.execute_reply": "2020-11-23T21:48:56.508808Z"
    },
    "papermill": {
     "duration": 0.176292,
     "end_time": "2020-11-23T21:48:56.509621",
     "exception": false,
     "start_time": "2020-11-23T21:48:56.333329",
     "status": "completed"
    },
    "tags": []
   },
   "outputs": [],
   "source": [
    "# для корректной обработки признаков объединяем трейн и тест в один датасет\n",
    "data_train['Train'] = 1 # помечаем где у нас трейн\n",
    "data_test['Train'] = 0 # помечаем где у нас тест\n",
    "\n",
    "data = data_train.append(data_test, sort=False).reset_index(drop=True) # объединяем"
   ]
  },
  {
   "cell_type": "code",
   "execution_count": 89,
   "metadata": {
    "execution": {
     "iopub.execute_input": "2020-11-23T21:48:56.751175Z",
     "iopub.status.busy": "2020-11-23T21:48:56.750422Z",
     "iopub.status.idle": "2020-11-23T21:48:56.801147Z",
     "shell.execute_reply": "2020-11-23T21:48:56.800413Z"
    },
    "papermill": {
     "duration": 0.19117,
     "end_time": "2020-11-23T21:48:56.801267",
     "exception": false,
     "start_time": "2020-11-23T21:48:56.610097",
     "status": "completed"
    },
    "tags": []
   },
   "outputs": [
    {
     "data": {
      "text/plain": [
       "client_id               0\n",
       "app_date                0\n",
       "education             478\n",
       "sex                     0\n",
       "age                     0\n",
       "car                     0\n",
       "car_type                0\n",
       "decline_app_cnt         0\n",
       "good_work               0\n",
       "score_bki               0\n",
       "bki_request_cnt         0\n",
       "region_rating           0\n",
       "home_address            0\n",
       "work_address            0\n",
       "income                  0\n",
       "sna                     0\n",
       "first_time              0\n",
       "foreign_passport        0\n",
       "default             36349\n",
       "Train                   0\n",
       "dtype: int64"
      ]
     },
     "execution_count": 89,
     "metadata": {},
     "output_type": "execute_result"
    }
   ],
   "source": [
    "data.isna().sum()"
   ]
  },
  {
   "cell_type": "code",
   "execution_count": 90,
   "metadata": {
    "execution": {
     "iopub.execute_input": "2020-11-23T21:48:57.010010Z",
     "iopub.status.busy": "2020-11-23T21:48:57.009146Z",
     "iopub.status.idle": "2020-11-23T21:48:57.013791Z",
     "shell.execute_reply": "2020-11-23T21:48:57.013058Z"
    },
    "papermill": {
     "duration": 0.112001,
     "end_time": "2020-11-23T21:48:57.013913",
     "exception": false,
     "start_time": "2020-11-23T21:48:56.901912",
     "status": "completed"
    },
    "tags": []
   },
   "outputs": [
    {
     "data": {
      "text/plain": [
       "(110148, 20)"
      ]
     },
     "execution_count": 90,
     "metadata": {},
     "output_type": "execute_result"
    }
   ],
   "source": [
    "data.shape"
   ]
  },
  {
   "cell_type": "code",
   "execution_count": 91,
   "metadata": {
    "execution": {
     "iopub.execute_input": "2020-11-23T21:48:57.251722Z",
     "iopub.status.busy": "2020-11-23T21:48:57.250937Z",
     "iopub.status.idle": "2020-11-23T21:48:57.258872Z",
     "shell.execute_reply": "2020-11-23T21:48:57.258210Z"
    },
    "papermill": {
     "duration": 0.144492,
     "end_time": "2020-11-23T21:48:57.259003",
     "exception": false,
     "start_time": "2020-11-23T21:48:57.114511",
     "status": "completed"
    },
    "tags": []
   },
   "outputs": [],
   "source": [
    "data['education'] = data['education'].fillna(data.education.mode()[0])"
   ]
  },
  {
   "cell_type": "markdown",
   "metadata": {
    "papermill": {
     "duration": 0.148449,
     "end_time": "2020-11-23T21:48:57.508689",
     "exception": false,
     "start_time": "2020-11-23T21:48:57.360240",
     "status": "completed"
    },
    "tags": []
   },
   "source": [
    "**Вывод**\n",
    "\n",
    "'default' имеет 36178 пропусков. Эти пропуски в будущем необходимо заполнить. "
   ]
  },
  {
   "cell_type": "markdown",
   "metadata": {
    "papermill": {
     "duration": 0.101245,
     "end_time": "2020-11-23T21:48:57.710982",
     "exception": false,
     "start_time": "2020-11-23T21:48:57.609737",
     "status": "completed"
    },
    "tags": []
   },
   "source": [
    "Описания полей датасета\n",
    "\n",
    "- client_id - идентификатор клиента\n",
    "- education - уровень образования\n",
    "- sex - пол заемщика\n",
    "- age - возраст заемщика\n",
    "- car - флаг наличия автомобиля\n",
    "- car_type - флаг автомобиля иномарки\n",
    "- decline_app_cnt - количество отказанных прошлых заявок\n",
    "- good_work - флаг наличия “хорошей” работы\n",
    "- bki_request_cnt - количество запросов в БКИ\n",
    "- home_address - категоризатор домашнего адреса\n",
    "- work_address - категоризатор рабочего адреса\n",
    "- income - доход заемщика\n",
    "- foreign_passport - наличие загранпаспорта\n",
    "- sna - связь заемщика с клиентами банка\n",
    "- first_time - давность наличия информации о заемщике\n",
    "- score_bki - скоринговый балл по данным из БКИ\n",
    "- region_rating - рейтинг региона\n",
    "- app_date - дата подачи заявки\n",
    "- default - флаг дефолта по кредиту\n",
    "В тренировочном наборе 73492 записей, в тестовой - 36178. Всего 19 переменных (18 признаков + целевая)."
   ]
  },
  {
   "cell_type": "code",
   "execution_count": 92,
   "metadata": {
    "execution": {
     "iopub.execute_input": "2020-11-23T21:48:57.929894Z",
     "iopub.status.busy": "2020-11-23T21:48:57.929100Z",
     "iopub.status.idle": "2020-11-23T21:48:57.959261Z",
     "shell.execute_reply": "2020-11-23T21:48:57.958494Z"
    },
    "papermill": {
     "duration": 0.146496,
     "end_time": "2020-11-23T21:48:57.959417",
     "exception": false,
     "start_time": "2020-11-23T21:48:57.812921",
     "status": "completed"
    },
    "tags": []
   },
   "outputs": [],
   "source": [
    "# исправим дату\n",
    "data['app_date'] = pd.to_datetime(data.app_date, format='%d%b%Y')\n"
   ]
  },
  {
   "cell_type": "code",
   "execution_count": 93,
   "metadata": {
    "execution": {
     "iopub.execute_input": "2020-11-23T21:48:58.180712Z",
     "iopub.status.busy": "2020-11-23T21:48:58.179878Z",
     "iopub.status.idle": "2020-11-23T21:48:58.197546Z",
     "shell.execute_reply": "2020-11-23T21:48:58.196938Z"
    },
    "papermill": {
     "duration": 0.135467,
     "end_time": "2020-11-23T21:48:58.197673",
     "exception": false,
     "start_time": "2020-11-23T21:48:58.062206",
     "status": "completed"
    },
    "tags": []
   },
   "outputs": [
    {
     "data": {
      "text/html": [
       "<div>\n",
       "<style scoped>\n",
       "    .dataframe tbody tr th:only-of-type {\n",
       "        vertical-align: middle;\n",
       "    }\n",
       "\n",
       "    .dataframe tbody tr th {\n",
       "        vertical-align: top;\n",
       "    }\n",
       "\n",
       "    .dataframe thead th {\n",
       "        text-align: right;\n",
       "    }\n",
       "</style>\n",
       "<table border=\"1\" class=\"dataframe\">\n",
       "  <thead>\n",
       "    <tr style=\"text-align: right;\">\n",
       "      <th></th>\n",
       "      <th>client_id</th>\n",
       "      <th>app_date</th>\n",
       "      <th>education</th>\n",
       "      <th>sex</th>\n",
       "      <th>age</th>\n",
       "      <th>car</th>\n",
       "      <th>car_type</th>\n",
       "      <th>decline_app_cnt</th>\n",
       "      <th>good_work</th>\n",
       "      <th>score_bki</th>\n",
       "      <th>bki_request_cnt</th>\n",
       "      <th>region_rating</th>\n",
       "      <th>home_address</th>\n",
       "      <th>work_address</th>\n",
       "      <th>income</th>\n",
       "      <th>sna</th>\n",
       "      <th>first_time</th>\n",
       "      <th>foreign_passport</th>\n",
       "      <th>default</th>\n",
       "      <th>Train</th>\n",
       "    </tr>\n",
       "  </thead>\n",
       "  <tbody>\n",
       "    <tr>\n",
       "      <td>0</td>\n",
       "      <td>25905</td>\n",
       "      <td>2014-02-01</td>\n",
       "      <td>SCH</td>\n",
       "      <td>M</td>\n",
       "      <td>62</td>\n",
       "      <td>Y</td>\n",
       "      <td>Y</td>\n",
       "      <td>0</td>\n",
       "      <td>0</td>\n",
       "      <td>-2.008753</td>\n",
       "      <td>1</td>\n",
       "      <td>50</td>\n",
       "      <td>1</td>\n",
       "      <td>2</td>\n",
       "      <td>18000</td>\n",
       "      <td>4</td>\n",
       "      <td>1</td>\n",
       "      <td>N</td>\n",
       "      <td>0.0</td>\n",
       "      <td>1</td>\n",
       "    </tr>\n",
       "    <tr>\n",
       "      <td>1</td>\n",
       "      <td>63161</td>\n",
       "      <td>2014-03-12</td>\n",
       "      <td>SCH</td>\n",
       "      <td>F</td>\n",
       "      <td>59</td>\n",
       "      <td>N</td>\n",
       "      <td>N</td>\n",
       "      <td>0</td>\n",
       "      <td>0</td>\n",
       "      <td>-1.532276</td>\n",
       "      <td>3</td>\n",
       "      <td>50</td>\n",
       "      <td>2</td>\n",
       "      <td>3</td>\n",
       "      <td>19000</td>\n",
       "      <td>4</td>\n",
       "      <td>1</td>\n",
       "      <td>N</td>\n",
       "      <td>0.0</td>\n",
       "      <td>1</td>\n",
       "    </tr>\n",
       "    <tr>\n",
       "      <td>2</td>\n",
       "      <td>25887</td>\n",
       "      <td>2014-02-01</td>\n",
       "      <td>SCH</td>\n",
       "      <td>M</td>\n",
       "      <td>25</td>\n",
       "      <td>Y</td>\n",
       "      <td>N</td>\n",
       "      <td>2</td>\n",
       "      <td>0</td>\n",
       "      <td>-1.408142</td>\n",
       "      <td>1</td>\n",
       "      <td>80</td>\n",
       "      <td>1</td>\n",
       "      <td>2</td>\n",
       "      <td>30000</td>\n",
       "      <td>1</td>\n",
       "      <td>4</td>\n",
       "      <td>Y</td>\n",
       "      <td>0.0</td>\n",
       "      <td>1</td>\n",
       "    </tr>\n",
       "    <tr>\n",
       "      <td>3</td>\n",
       "      <td>16222</td>\n",
       "      <td>2014-01-23</td>\n",
       "      <td>SCH</td>\n",
       "      <td>F</td>\n",
       "      <td>53</td>\n",
       "      <td>N</td>\n",
       "      <td>N</td>\n",
       "      <td>0</td>\n",
       "      <td>0</td>\n",
       "      <td>-2.057471</td>\n",
       "      <td>2</td>\n",
       "      <td>50</td>\n",
       "      <td>2</td>\n",
       "      <td>3</td>\n",
       "      <td>10000</td>\n",
       "      <td>1</td>\n",
       "      <td>3</td>\n",
       "      <td>N</td>\n",
       "      <td>0.0</td>\n",
       "      <td>1</td>\n",
       "    </tr>\n",
       "    <tr>\n",
       "      <td>4</td>\n",
       "      <td>101655</td>\n",
       "      <td>2014-04-18</td>\n",
       "      <td>GRD</td>\n",
       "      <td>M</td>\n",
       "      <td>48</td>\n",
       "      <td>N</td>\n",
       "      <td>N</td>\n",
       "      <td>0</td>\n",
       "      <td>1</td>\n",
       "      <td>-1.244723</td>\n",
       "      <td>1</td>\n",
       "      <td>60</td>\n",
       "      <td>2</td>\n",
       "      <td>3</td>\n",
       "      <td>30000</td>\n",
       "      <td>1</td>\n",
       "      <td>4</td>\n",
       "      <td>Y</td>\n",
       "      <td>0.0</td>\n",
       "      <td>1</td>\n",
       "    </tr>\n",
       "  </tbody>\n",
       "</table>\n",
       "</div>"
      ],
      "text/plain": [
       "   client_id   app_date education sex  age car car_type  decline_app_cnt  \\\n",
       "0      25905 2014-02-01       SCH   M   62   Y        Y                0   \n",
       "1      63161 2014-03-12       SCH   F   59   N        N                0   \n",
       "2      25887 2014-02-01       SCH   M   25   Y        N                2   \n",
       "3      16222 2014-01-23       SCH   F   53   N        N                0   \n",
       "4     101655 2014-04-18       GRD   M   48   N        N                0   \n",
       "\n",
       "   good_work  score_bki  bki_request_cnt  region_rating  home_address  \\\n",
       "0          0  -2.008753                1             50             1   \n",
       "1          0  -1.532276                3             50             2   \n",
       "2          0  -1.408142                1             80             1   \n",
       "3          0  -2.057471                2             50             2   \n",
       "4          1  -1.244723                1             60             2   \n",
       "\n",
       "   work_address  income  sna  first_time foreign_passport  default  Train  \n",
       "0             2   18000    4           1                N      0.0      1  \n",
       "1             3   19000    4           1                N      0.0      1  \n",
       "2             2   30000    1           4                Y      0.0      1  \n",
       "3             3   10000    1           3                N      0.0      1  \n",
       "4             3   30000    1           4                Y      0.0      1  "
      ]
     },
     "execution_count": 93,
     "metadata": {},
     "output_type": "execute_result"
    }
   ],
   "source": [
    "data.head()"
   ]
  },
  {
   "cell_type": "markdown",
   "metadata": {
    "papermill": {
     "duration": 0.101418,
     "end_time": "2020-11-23T21:48:58.401039",
     "exception": false,
     "start_time": "2020-11-23T21:48:58.299621",
     "status": "completed"
    },
    "tags": []
   },
   "source": [
    "# 2. Предварительный анализ данных"
   ]
  },
  {
   "cell_type": "code",
   "execution_count": 94,
   "metadata": {
    "execution": {
     "iopub.execute_input": "2020-11-23T21:48:58.612603Z",
     "iopub.status.busy": "2020-11-23T21:48:58.611434Z",
     "iopub.status.idle": "2020-11-23T21:48:58.734934Z",
     "shell.execute_reply": "2020-11-23T21:48:58.734136Z"
    },
    "papermill": {
     "duration": 0.232094,
     "end_time": "2020-11-23T21:48:58.735056",
     "exception": false,
     "start_time": "2020-11-23T21:48:58.502962",
     "status": "completed"
    },
    "tags": []
   },
   "outputs": [
    {
     "data": {
      "text/html": [
       "<div>\n",
       "<style scoped>\n",
       "    .dataframe tbody tr th:only-of-type {\n",
       "        vertical-align: middle;\n",
       "    }\n",
       "\n",
       "    .dataframe tbody tr th {\n",
       "        vertical-align: top;\n",
       "    }\n",
       "\n",
       "    .dataframe thead th {\n",
       "        text-align: right;\n",
       "    }\n",
       "</style>\n",
       "<table border=\"1\" class=\"dataframe\">\n",
       "  <thead>\n",
       "    <tr style=\"text-align: right;\">\n",
       "      <th></th>\n",
       "      <th>client_id</th>\n",
       "      <th>age</th>\n",
       "      <th>decline_app_cnt</th>\n",
       "      <th>good_work</th>\n",
       "      <th>score_bki</th>\n",
       "      <th>bki_request_cnt</th>\n",
       "      <th>region_rating</th>\n",
       "      <th>home_address</th>\n",
       "      <th>work_address</th>\n",
       "      <th>income</th>\n",
       "      <th>sna</th>\n",
       "      <th>first_time</th>\n",
       "      <th>default</th>\n",
       "      <th>Train</th>\n",
       "    </tr>\n",
       "  </thead>\n",
       "  <tbody>\n",
       "    <tr>\n",
       "      <td>count</td>\n",
       "      <td>110148.000000</td>\n",
       "      <td>110148.000000</td>\n",
       "      <td>110148.000000</td>\n",
       "      <td>110148.000000</td>\n",
       "      <td>110148.000000</td>\n",
       "      <td>110148.000000</td>\n",
       "      <td>110148.000000</td>\n",
       "      <td>110148.000000</td>\n",
       "      <td>110148.000000</td>\n",
       "      <td>110148.000000</td>\n",
       "      <td>110148.000000</td>\n",
       "      <td>110148.000000</td>\n",
       "      <td>73799.000000</td>\n",
       "      <td>110148.000000</td>\n",
       "    </tr>\n",
       "    <tr>\n",
       "      <td>mean</td>\n",
       "      <td>55074.500000</td>\n",
       "      <td>39.249410</td>\n",
       "      <td>0.273205</td>\n",
       "      <td>0.165514</td>\n",
       "      <td>-1.904535</td>\n",
       "      <td>2.005002</td>\n",
       "      <td>56.751189</td>\n",
       "      <td>1.574945</td>\n",
       "      <td>2.497867</td>\n",
       "      <td>41012.648537</td>\n",
       "      <td>1.731588</td>\n",
       "      <td>2.765570</td>\n",
       "      <td>0.126994</td>\n",
       "      <td>0.669999</td>\n",
       "    </tr>\n",
       "    <tr>\n",
       "      <td>std</td>\n",
       "      <td>31797.133063</td>\n",
       "      <td>11.518063</td>\n",
       "      <td>0.799099</td>\n",
       "      <td>0.371645</td>\n",
       "      <td>0.499397</td>\n",
       "      <td>2.266926</td>\n",
       "      <td>13.065923</td>\n",
       "      <td>0.527562</td>\n",
       "      <td>0.687651</td>\n",
       "      <td>45399.735051</td>\n",
       "      <td>1.122652</td>\n",
       "      <td>1.010151</td>\n",
       "      <td>0.332968</td>\n",
       "      <td>0.470215</td>\n",
       "    </tr>\n",
       "    <tr>\n",
       "      <td>min</td>\n",
       "      <td>1.000000</td>\n",
       "      <td>21.000000</td>\n",
       "      <td>0.000000</td>\n",
       "      <td>0.000000</td>\n",
       "      <td>-3.624586</td>\n",
       "      <td>0.000000</td>\n",
       "      <td>20.000000</td>\n",
       "      <td>1.000000</td>\n",
       "      <td>1.000000</td>\n",
       "      <td>1000.000000</td>\n",
       "      <td>1.000000</td>\n",
       "      <td>1.000000</td>\n",
       "      <td>0.000000</td>\n",
       "      <td>0.000000</td>\n",
       "    </tr>\n",
       "    <tr>\n",
       "      <td>25%</td>\n",
       "      <td>27537.750000</td>\n",
       "      <td>30.000000</td>\n",
       "      <td>0.000000</td>\n",
       "      <td>0.000000</td>\n",
       "      <td>-2.260434</td>\n",
       "      <td>0.000000</td>\n",
       "      <td>50.000000</td>\n",
       "      <td>1.000000</td>\n",
       "      <td>2.000000</td>\n",
       "      <td>20000.000000</td>\n",
       "      <td>1.000000</td>\n",
       "      <td>2.000000</td>\n",
       "      <td>0.000000</td>\n",
       "      <td>0.000000</td>\n",
       "    </tr>\n",
       "    <tr>\n",
       "      <td>50%</td>\n",
       "      <td>55074.500000</td>\n",
       "      <td>37.000000</td>\n",
       "      <td>0.000000</td>\n",
       "      <td>0.000000</td>\n",
       "      <td>-1.920823</td>\n",
       "      <td>1.000000</td>\n",
       "      <td>50.000000</td>\n",
       "      <td>2.000000</td>\n",
       "      <td>3.000000</td>\n",
       "      <td>30000.000000</td>\n",
       "      <td>1.000000</td>\n",
       "      <td>3.000000</td>\n",
       "      <td>0.000000</td>\n",
       "      <td>1.000000</td>\n",
       "    </tr>\n",
       "    <tr>\n",
       "      <td>75%</td>\n",
       "      <td>82611.250000</td>\n",
       "      <td>48.000000</td>\n",
       "      <td>0.000000</td>\n",
       "      <td>0.000000</td>\n",
       "      <td>-1.567888</td>\n",
       "      <td>3.000000</td>\n",
       "      <td>60.000000</td>\n",
       "      <td>2.000000</td>\n",
       "      <td>3.000000</td>\n",
       "      <td>48000.000000</td>\n",
       "      <td>2.000000</td>\n",
       "      <td>4.000000</td>\n",
       "      <td>0.000000</td>\n",
       "      <td>1.000000</td>\n",
       "    </tr>\n",
       "    <tr>\n",
       "      <td>max</td>\n",
       "      <td>110148.000000</td>\n",
       "      <td>72.000000</td>\n",
       "      <td>33.000000</td>\n",
       "      <td>1.000000</td>\n",
       "      <td>0.199773</td>\n",
       "      <td>53.000000</td>\n",
       "      <td>80.000000</td>\n",
       "      <td>3.000000</td>\n",
       "      <td>3.000000</td>\n",
       "      <td>1000000.000000</td>\n",
       "      <td>4.000000</td>\n",
       "      <td>4.000000</td>\n",
       "      <td>1.000000</td>\n",
       "      <td>1.000000</td>\n",
       "    </tr>\n",
       "  </tbody>\n",
       "</table>\n",
       "</div>"
      ],
      "text/plain": [
       "           client_id            age  decline_app_cnt      good_work  \\\n",
       "count  110148.000000  110148.000000    110148.000000  110148.000000   \n",
       "mean    55074.500000      39.249410         0.273205       0.165514   \n",
       "std     31797.133063      11.518063         0.799099       0.371645   \n",
       "min         1.000000      21.000000         0.000000       0.000000   \n",
       "25%     27537.750000      30.000000         0.000000       0.000000   \n",
       "50%     55074.500000      37.000000         0.000000       0.000000   \n",
       "75%     82611.250000      48.000000         0.000000       0.000000   \n",
       "max    110148.000000      72.000000        33.000000       1.000000   \n",
       "\n",
       "           score_bki  bki_request_cnt  region_rating   home_address  \\\n",
       "count  110148.000000    110148.000000  110148.000000  110148.000000   \n",
       "mean       -1.904535         2.005002      56.751189       1.574945   \n",
       "std         0.499397         2.266926      13.065923       0.527562   \n",
       "min        -3.624586         0.000000      20.000000       1.000000   \n",
       "25%        -2.260434         0.000000      50.000000       1.000000   \n",
       "50%        -1.920823         1.000000      50.000000       2.000000   \n",
       "75%        -1.567888         3.000000      60.000000       2.000000   \n",
       "max         0.199773        53.000000      80.000000       3.000000   \n",
       "\n",
       "        work_address          income            sna     first_time  \\\n",
       "count  110148.000000   110148.000000  110148.000000  110148.000000   \n",
       "mean        2.497867    41012.648537       1.731588       2.765570   \n",
       "std         0.687651    45399.735051       1.122652       1.010151   \n",
       "min         1.000000     1000.000000       1.000000       1.000000   \n",
       "25%         2.000000    20000.000000       1.000000       2.000000   \n",
       "50%         3.000000    30000.000000       1.000000       3.000000   \n",
       "75%         3.000000    48000.000000       2.000000       4.000000   \n",
       "max         3.000000  1000000.000000       4.000000       4.000000   \n",
       "\n",
       "            default          Train  \n",
       "count  73799.000000  110148.000000  \n",
       "mean       0.126994       0.669999  \n",
       "std        0.332968       0.470215  \n",
       "min        0.000000       0.000000  \n",
       "25%        0.000000       0.000000  \n",
       "50%        0.000000       1.000000  \n",
       "75%        0.000000       1.000000  \n",
       "max        1.000000       1.000000  "
      ]
     },
     "execution_count": 94,
     "metadata": {},
     "output_type": "execute_result"
    }
   ],
   "source": [
    "data.describe()"
   ]
  },
  {
   "cell_type": "code",
   "execution_count": 95,
   "metadata": {
    "execution": {
     "iopub.execute_input": "2020-11-23T21:48:58.950168Z",
     "iopub.status.busy": "2020-11-23T21:48:58.949376Z",
     "iopub.status.idle": "2020-11-23T21:48:59.196747Z",
     "shell.execute_reply": "2020-11-23T21:48:59.195988Z"
    },
    "papermill": {
     "duration": 0.357307,
     "end_time": "2020-11-23T21:48:59.196873",
     "exception": false,
     "start_time": "2020-11-23T21:48:58.839566",
     "status": "completed"
    },
    "tags": []
   },
   "outputs": [
    {
     "data": {
      "text/html": [
       "<div>\n",
       "<style scoped>\n",
       "    .dataframe tbody tr th:only-of-type {\n",
       "        vertical-align: middle;\n",
       "    }\n",
       "\n",
       "    .dataframe tbody tr th {\n",
       "        vertical-align: top;\n",
       "    }\n",
       "\n",
       "    .dataframe thead th {\n",
       "        text-align: right;\n",
       "    }\n",
       "</style>\n",
       "<table border=\"1\" class=\"dataframe\">\n",
       "  <thead>\n",
       "    <tr style=\"text-align: right;\">\n",
       "      <th></th>\n",
       "      <th>education</th>\n",
       "      <th>sex</th>\n",
       "      <th>car</th>\n",
       "      <th>car_type</th>\n",
       "      <th>foreign_passport</th>\n",
       "    </tr>\n",
       "  </thead>\n",
       "  <tbody>\n",
       "    <tr>\n",
       "      <td>count</td>\n",
       "      <td>110148</td>\n",
       "      <td>110148</td>\n",
       "      <td>110148</td>\n",
       "      <td>110148</td>\n",
       "      <td>110148</td>\n",
       "    </tr>\n",
       "    <tr>\n",
       "      <td>unique</td>\n",
       "      <td>5</td>\n",
       "      <td>2</td>\n",
       "      <td>2</td>\n",
       "      <td>2</td>\n",
       "      <td>2</td>\n",
       "    </tr>\n",
       "    <tr>\n",
       "      <td>top</td>\n",
       "      <td>SCH</td>\n",
       "      <td>F</td>\n",
       "      <td>N</td>\n",
       "      <td>N</td>\n",
       "      <td>N</td>\n",
       "    </tr>\n",
       "    <tr>\n",
       "      <td>freq</td>\n",
       "      <td>58476</td>\n",
       "      <td>61836</td>\n",
       "      <td>74290</td>\n",
       "      <td>89140</td>\n",
       "      <td>93721</td>\n",
       "    </tr>\n",
       "  </tbody>\n",
       "</table>\n",
       "</div>"
      ],
      "text/plain": [
       "       education     sex     car car_type foreign_passport\n",
       "count     110148  110148  110148   110148           110148\n",
       "unique         5       2       2        2                2\n",
       "top          SCH       F       N        N                N\n",
       "freq       58476   61836   74290    89140            93721"
      ]
     },
     "execution_count": 95,
     "metadata": {},
     "output_type": "execute_result"
    }
   ],
   "source": [
    "data.describe(include = 'object')"
   ]
  },
  {
   "cell_type": "code",
   "execution_count": 96,
   "metadata": {
    "execution": {
     "iopub.execute_input": "2020-11-23T21:48:59.454229Z",
     "iopub.status.busy": "2020-11-23T21:48:59.453075Z",
     "iopub.status.idle": "2020-11-23T21:48:59.629385Z",
     "shell.execute_reply": "2020-11-23T21:48:59.630011Z"
    },
    "papermill": {
     "duration": 0.329514,
     "end_time": "2020-11-23T21:48:59.630170",
     "exception": false,
     "start_time": "2020-11-23T21:48:59.300656",
     "status": "completed"
    },
    "tags": []
   },
   "outputs": [],
   "source": [
    "# переведем данные в цифровой формат\n",
    "\n",
    "label_encoder = LabelEncoder()\n",
    "\n",
    "for column in ['education', 'sex', 'car', 'car_type', 'foreign_passport']:\n",
    "    data[column] = label_encoder.fit_transform(data[column])\n",
    "    \n"
   ]
  },
  {
   "cell_type": "code",
   "execution_count": 97,
   "metadata": {
    "execution": {
     "iopub.execute_input": "2020-11-23T21:48:59.847452Z",
     "iopub.status.busy": "2020-11-23T21:48:59.846170Z",
     "iopub.status.idle": "2020-11-23T21:48:59.993972Z",
     "shell.execute_reply": "2020-11-23T21:48:59.993200Z"
    },
    "papermill": {
     "duration": 0.259302,
     "end_time": "2020-11-23T21:48:59.994110",
     "exception": false,
     "start_time": "2020-11-23T21:48:59.734808",
     "status": "completed"
    },
    "tags": []
   },
   "outputs": [
    {
     "data": {
      "text/html": [
       "<div>\n",
       "<style scoped>\n",
       "    .dataframe tbody tr th:only-of-type {\n",
       "        vertical-align: middle;\n",
       "    }\n",
       "\n",
       "    .dataframe tbody tr th {\n",
       "        vertical-align: top;\n",
       "    }\n",
       "\n",
       "    .dataframe thead th {\n",
       "        text-align: right;\n",
       "    }\n",
       "</style>\n",
       "<table border=\"1\" class=\"dataframe\">\n",
       "  <thead>\n",
       "    <tr style=\"text-align: right;\">\n",
       "      <th></th>\n",
       "      <th>client_id</th>\n",
       "      <th>education</th>\n",
       "      <th>sex</th>\n",
       "      <th>age</th>\n",
       "      <th>car</th>\n",
       "      <th>car_type</th>\n",
       "      <th>decline_app_cnt</th>\n",
       "      <th>good_work</th>\n",
       "      <th>score_bki</th>\n",
       "      <th>bki_request_cnt</th>\n",
       "      <th>region_rating</th>\n",
       "      <th>home_address</th>\n",
       "      <th>work_address</th>\n",
       "      <th>income</th>\n",
       "      <th>sna</th>\n",
       "      <th>first_time</th>\n",
       "      <th>foreign_passport</th>\n",
       "      <th>default</th>\n",
       "      <th>Train</th>\n",
       "    </tr>\n",
       "  </thead>\n",
       "  <tbody>\n",
       "    <tr>\n",
       "      <td>count</td>\n",
       "      <td>110148.000000</td>\n",
       "      <td>110148.000000</td>\n",
       "      <td>110148.000000</td>\n",
       "      <td>110148.000000</td>\n",
       "      <td>110148.000000</td>\n",
       "      <td>110148.000000</td>\n",
       "      <td>110148.000000</td>\n",
       "      <td>110148.000000</td>\n",
       "      <td>110148.000000</td>\n",
       "      <td>110148.000000</td>\n",
       "      <td>110148.000000</td>\n",
       "      <td>110148.000000</td>\n",
       "      <td>110148.000000</td>\n",
       "      <td>110148.000000</td>\n",
       "      <td>110148.000000</td>\n",
       "      <td>110148.000000</td>\n",
       "      <td>110148.000000</td>\n",
       "      <td>73799.000000</td>\n",
       "      <td>110148.000000</td>\n",
       "    </tr>\n",
       "    <tr>\n",
       "      <td>mean</td>\n",
       "      <td>55074.500000</td>\n",
       "      <td>2.477739</td>\n",
       "      <td>0.438610</td>\n",
       "      <td>39.249410</td>\n",
       "      <td>0.325544</td>\n",
       "      <td>0.190725</td>\n",
       "      <td>0.273205</td>\n",
       "      <td>0.165514</td>\n",
       "      <td>-1.904535</td>\n",
       "      <td>2.005002</td>\n",
       "      <td>56.751189</td>\n",
       "      <td>1.574945</td>\n",
       "      <td>2.497867</td>\n",
       "      <td>41012.648537</td>\n",
       "      <td>1.731588</td>\n",
       "      <td>2.765570</td>\n",
       "      <td>0.149136</td>\n",
       "      <td>0.126994</td>\n",
       "      <td>0.669999</td>\n",
       "    </tr>\n",
       "    <tr>\n",
       "      <td>std</td>\n",
       "      <td>31797.133063</td>\n",
       "      <td>1.079096</td>\n",
       "      <td>0.496219</td>\n",
       "      <td>11.518063</td>\n",
       "      <td>0.468580</td>\n",
       "      <td>0.392875</td>\n",
       "      <td>0.799099</td>\n",
       "      <td>0.371645</td>\n",
       "      <td>0.499397</td>\n",
       "      <td>2.266926</td>\n",
       "      <td>13.065923</td>\n",
       "      <td>0.527562</td>\n",
       "      <td>0.687651</td>\n",
       "      <td>45399.735051</td>\n",
       "      <td>1.122652</td>\n",
       "      <td>1.010151</td>\n",
       "      <td>0.356224</td>\n",
       "      <td>0.332968</td>\n",
       "      <td>0.470215</td>\n",
       "    </tr>\n",
       "    <tr>\n",
       "      <td>min</td>\n",
       "      <td>1.000000</td>\n",
       "      <td>0.000000</td>\n",
       "      <td>0.000000</td>\n",
       "      <td>21.000000</td>\n",
       "      <td>0.000000</td>\n",
       "      <td>0.000000</td>\n",
       "      <td>0.000000</td>\n",
       "      <td>0.000000</td>\n",
       "      <td>-3.624586</td>\n",
       "      <td>0.000000</td>\n",
       "      <td>20.000000</td>\n",
       "      <td>1.000000</td>\n",
       "      <td>1.000000</td>\n",
       "      <td>1000.000000</td>\n",
       "      <td>1.000000</td>\n",
       "      <td>1.000000</td>\n",
       "      <td>0.000000</td>\n",
       "      <td>0.000000</td>\n",
       "      <td>0.000000</td>\n",
       "    </tr>\n",
       "    <tr>\n",
       "      <td>25%</td>\n",
       "      <td>27537.750000</td>\n",
       "      <td>1.000000</td>\n",
       "      <td>0.000000</td>\n",
       "      <td>30.000000</td>\n",
       "      <td>0.000000</td>\n",
       "      <td>0.000000</td>\n",
       "      <td>0.000000</td>\n",
       "      <td>0.000000</td>\n",
       "      <td>-2.260434</td>\n",
       "      <td>0.000000</td>\n",
       "      <td>50.000000</td>\n",
       "      <td>1.000000</td>\n",
       "      <td>2.000000</td>\n",
       "      <td>20000.000000</td>\n",
       "      <td>1.000000</td>\n",
       "      <td>2.000000</td>\n",
       "      <td>0.000000</td>\n",
       "      <td>0.000000</td>\n",
       "      <td>0.000000</td>\n",
       "    </tr>\n",
       "    <tr>\n",
       "      <td>50%</td>\n",
       "      <td>55074.500000</td>\n",
       "      <td>3.000000</td>\n",
       "      <td>0.000000</td>\n",
       "      <td>37.000000</td>\n",
       "      <td>0.000000</td>\n",
       "      <td>0.000000</td>\n",
       "      <td>0.000000</td>\n",
       "      <td>0.000000</td>\n",
       "      <td>-1.920823</td>\n",
       "      <td>1.000000</td>\n",
       "      <td>50.000000</td>\n",
       "      <td>2.000000</td>\n",
       "      <td>3.000000</td>\n",
       "      <td>30000.000000</td>\n",
       "      <td>1.000000</td>\n",
       "      <td>3.000000</td>\n",
       "      <td>0.000000</td>\n",
       "      <td>0.000000</td>\n",
       "      <td>1.000000</td>\n",
       "    </tr>\n",
       "    <tr>\n",
       "      <td>75%</td>\n",
       "      <td>82611.250000</td>\n",
       "      <td>3.000000</td>\n",
       "      <td>1.000000</td>\n",
       "      <td>48.000000</td>\n",
       "      <td>1.000000</td>\n",
       "      <td>0.000000</td>\n",
       "      <td>0.000000</td>\n",
       "      <td>0.000000</td>\n",
       "      <td>-1.567888</td>\n",
       "      <td>3.000000</td>\n",
       "      <td>60.000000</td>\n",
       "      <td>2.000000</td>\n",
       "      <td>3.000000</td>\n",
       "      <td>48000.000000</td>\n",
       "      <td>2.000000</td>\n",
       "      <td>4.000000</td>\n",
       "      <td>0.000000</td>\n",
       "      <td>0.000000</td>\n",
       "      <td>1.000000</td>\n",
       "    </tr>\n",
       "    <tr>\n",
       "      <td>max</td>\n",
       "      <td>110148.000000</td>\n",
       "      <td>4.000000</td>\n",
       "      <td>1.000000</td>\n",
       "      <td>72.000000</td>\n",
       "      <td>1.000000</td>\n",
       "      <td>1.000000</td>\n",
       "      <td>33.000000</td>\n",
       "      <td>1.000000</td>\n",
       "      <td>0.199773</td>\n",
       "      <td>53.000000</td>\n",
       "      <td>80.000000</td>\n",
       "      <td>3.000000</td>\n",
       "      <td>3.000000</td>\n",
       "      <td>1000000.000000</td>\n",
       "      <td>4.000000</td>\n",
       "      <td>4.000000</td>\n",
       "      <td>1.000000</td>\n",
       "      <td>1.000000</td>\n",
       "      <td>1.000000</td>\n",
       "    </tr>\n",
       "  </tbody>\n",
       "</table>\n",
       "</div>"
      ],
      "text/plain": [
       "           client_id      education            sex            age  \\\n",
       "count  110148.000000  110148.000000  110148.000000  110148.000000   \n",
       "mean    55074.500000       2.477739       0.438610      39.249410   \n",
       "std     31797.133063       1.079096       0.496219      11.518063   \n",
       "min         1.000000       0.000000       0.000000      21.000000   \n",
       "25%     27537.750000       1.000000       0.000000      30.000000   \n",
       "50%     55074.500000       3.000000       0.000000      37.000000   \n",
       "75%     82611.250000       3.000000       1.000000      48.000000   \n",
       "max    110148.000000       4.000000       1.000000      72.000000   \n",
       "\n",
       "                 car       car_type  decline_app_cnt      good_work  \\\n",
       "count  110148.000000  110148.000000    110148.000000  110148.000000   \n",
       "mean        0.325544       0.190725         0.273205       0.165514   \n",
       "std         0.468580       0.392875         0.799099       0.371645   \n",
       "min         0.000000       0.000000         0.000000       0.000000   \n",
       "25%         0.000000       0.000000         0.000000       0.000000   \n",
       "50%         0.000000       0.000000         0.000000       0.000000   \n",
       "75%         1.000000       0.000000         0.000000       0.000000   \n",
       "max         1.000000       1.000000        33.000000       1.000000   \n",
       "\n",
       "           score_bki  bki_request_cnt  region_rating   home_address  \\\n",
       "count  110148.000000    110148.000000  110148.000000  110148.000000   \n",
       "mean       -1.904535         2.005002      56.751189       1.574945   \n",
       "std         0.499397         2.266926      13.065923       0.527562   \n",
       "min        -3.624586         0.000000      20.000000       1.000000   \n",
       "25%        -2.260434         0.000000      50.000000       1.000000   \n",
       "50%        -1.920823         1.000000      50.000000       2.000000   \n",
       "75%        -1.567888         3.000000      60.000000       2.000000   \n",
       "max         0.199773        53.000000      80.000000       3.000000   \n",
       "\n",
       "        work_address          income            sna     first_time  \\\n",
       "count  110148.000000   110148.000000  110148.000000  110148.000000   \n",
       "mean        2.497867    41012.648537       1.731588       2.765570   \n",
       "std         0.687651    45399.735051       1.122652       1.010151   \n",
       "min         1.000000     1000.000000       1.000000       1.000000   \n",
       "25%         2.000000    20000.000000       1.000000       2.000000   \n",
       "50%         3.000000    30000.000000       1.000000       3.000000   \n",
       "75%         3.000000    48000.000000       2.000000       4.000000   \n",
       "max         3.000000  1000000.000000       4.000000       4.000000   \n",
       "\n",
       "       foreign_passport       default          Train  \n",
       "count     110148.000000  73799.000000  110148.000000  \n",
       "mean           0.149136      0.126994       0.669999  \n",
       "std            0.356224      0.332968       0.470215  \n",
       "min            0.000000      0.000000       0.000000  \n",
       "25%            0.000000      0.000000       0.000000  \n",
       "50%            0.000000      0.000000       1.000000  \n",
       "75%            0.000000      0.000000       1.000000  \n",
       "max            1.000000      1.000000       1.000000  "
      ]
     },
     "execution_count": 97,
     "metadata": {},
     "output_type": "execute_result"
    }
   ],
   "source": [
    "data.describe()"
   ]
  },
  {
   "cell_type": "markdown",
   "metadata": {
    "papermill": {
     "duration": 0.249161,
     "end_time": "2020-11-23T21:49:04.093413",
     "exception": false,
     "start_time": "2020-11-23T21:49:03.844252",
     "status": "completed"
    },
    "tags": []
   },
   "source": [
    "**Вывод**\n",
    "\n",
    "*С 90% вероятностью можно сказать что дефолт наступит в следующем случае:*\n",
    "   1. Дефолту подвержены люди всех видов образования, пола, наличия автомобиля и автомобиля иностранного производства, категоризатор домашнего адреса, категоризатор рабочего адреса, наличие загранпаспорта, давность наличия информации о заемщике,region_rating.\n",
    "   2. На невозврат долга существенное влияние оказывают следующие факторы:\n",
    "* количество отказанных прошлых заявок. При этом если количество откланенных заявок выше 15 то наблюдается явный эффект организации возврата; \n",
    "* скоринговый балл по данным из БКИ. Находится ниже 0.2;\n",
    "* если количество запросов в БКИ не большое, то вероятность дефолта высокая;\n",
    "* люди с низким доходом, до 0.4-0.5 М.\n",
    "\n",
    "С 90% вероятностью можно сказать, что наступление дефолта равно 0:\n",
    "   1. расширился возраст т.е. пенсионеры за 70 лучше платят, увеличелось число отказов и количество запросов БКИ, однозначно выросли доходы."
   ]
  },
  {
   "cell_type": "markdown",
   "metadata": {
    "papermill": {
     "duration": 0.241281,
     "end_time": "2020-11-23T21:49:04.576812",
     "exception": false,
     "start_time": "2020-11-23T21:49:04.335531",
     "status": "completed"
    },
    "tags": []
   },
   "source": [
    "**Проверим как на возврат влияет день месяца и месяц**"
   ]
  },
  {
   "cell_type": "code",
   "execution_count": 100,
   "metadata": {
    "execution": {
     "iopub.execute_input": "2020-11-23T21:49:05.068838Z",
     "iopub.status.busy": "2020-11-23T21:49:05.067881Z",
     "iopub.status.idle": "2020-11-23T21:49:05.097711Z",
     "shell.execute_reply": "2020-11-23T21:49:05.098396Z"
    },
    "papermill": {
     "duration": 0.279662,
     "end_time": "2020-11-23T21:49:05.098556",
     "exception": false,
     "start_time": "2020-11-23T21:49:04.818894",
     "status": "completed"
    },
    "tags": []
   },
   "outputs": [],
   "source": [
    "data['day'] = data['app_date'].dt.day\n",
    "data['month'] = data['app_date'].dt.month\n"
   ]
  },
  {
   "cell_type": "markdown",
   "metadata": {
    "papermill": {
     "duration": 0.269774,
     "end_time": "2020-11-23T21:49:07.620775",
     "exception": false,
     "start_time": "2020-11-23T21:49:07.351001",
     "status": "completed"
    },
    "tags": []
   },
   "source": [
    "**Вывод**\n",
    "\n",
    "Дни месяца и номер месяца не играет существенной роли при определении дефолта. Однако стоит отметить, что время играет важную роль в различных скоринговых моделях, то создадим новый новый признак дельту от конца 2020 года."
   ]
  },
  {
   "cell_type": "code",
   "execution_count": 103,
   "metadata": {
    "execution": {
     "iopub.execute_input": "2020-11-23T21:49:08.171124Z",
     "iopub.status.busy": "2020-11-23T21:49:08.170117Z",
     "iopub.status.idle": "2020-11-23T21:49:08.174000Z",
     "shell.execute_reply": "2020-11-23T21:49:08.174571Z"
    },
    "papermill": {
     "duration": 0.281702,
     "end_time": "2020-11-23T21:49:08.174736",
     "exception": false,
     "start_time": "2020-11-23T21:49:07.893034",
     "status": "completed"
    },
    "tags": []
   },
   "outputs": [],
   "source": [
    "NY_2020 = pd.to_datetime('31/12/2020')"
   ]
  },
  {
   "cell_type": "code",
   "execution_count": 104,
   "metadata": {
    "execution": {
     "iopub.execute_input": "2020-11-23T21:49:08.784770Z",
     "iopub.status.busy": "2020-11-23T21:49:08.783966Z",
     "iopub.status.idle": "2020-11-23T21:49:08.822099Z",
     "shell.execute_reply": "2020-11-23T21:49:08.821418Z"
    },
    "papermill": {
     "duration": 0.315919,
     "end_time": "2020-11-23T21:49:08.822233",
     "exception": false,
     "start_time": "2020-11-23T21:49:08.506314",
     "status": "completed"
    },
    "tags": []
   },
   "outputs": [
    {
     "data": {
      "text/plain": [
       "3     2534\n",
       "9     2547\n",
       "12    2549\n",
       "15    2535\n",
       "16    2527\n",
       "Name: delta_time, dtype: int64"
      ]
     },
     "execution_count": 104,
     "metadata": {},
     "output_type": "execute_result"
    }
   ],
   "source": [
    "data['delta_time'] = (NY_2020 - data['app_date']).dt.days\n",
    "data[data.month == 1]['delta_time'].head()"
   ]
  },
  {
   "cell_type": "markdown",
   "metadata": {
    "papermill": {
     "duration": 0.271277,
     "end_time": "2020-11-23T21:49:09.366583",
     "exception": false,
     "start_time": "2020-11-23T21:49:09.095306",
     "status": "completed"
    },
    "tags": []
   },
   "source": [
    "**Вывод**\n",
    "\n",
    "Из данных удалим признаки app_date, month, day"
   ]
  },
  {
   "cell_type": "code",
   "execution_count": 105,
   "metadata": {
    "execution": {
     "iopub.execute_input": "2020-11-23T21:49:09.928443Z",
     "iopub.status.busy": "2020-11-23T21:49:09.927452Z",
     "iopub.status.idle": "2020-11-23T21:49:09.931035Z",
     "shell.execute_reply": "2020-11-23T21:49:09.930251Z"
    },
    "papermill": {
     "duration": 0.290301,
     "end_time": "2020-11-23T21:49:09.931162",
     "exception": false,
     "start_time": "2020-11-23T21:49:09.640861",
     "status": "completed"
    },
    "tags": []
   },
   "outputs": [],
   "source": [
    "data.drop(['day', 'app_date', 'month'],  axis = 1, inplace = True)"
   ]
  },
  {
   "cell_type": "markdown",
   "metadata": {
    "papermill": {
     "duration": 0.275051,
     "end_time": "2020-11-23T21:49:10.477178",
     "exception": false,
     "start_time": "2020-11-23T21:49:10.202127",
     "status": "completed"
    },
    "tags": []
   },
   "source": [
    "# 3. Обработка признаков в данных"
   ]
  },
  {
   "cell_type": "code",
   "execution_count": 106,
   "metadata": {
    "execution": {
     "iopub.execute_input": "2020-11-23T21:49:11.032025Z",
     "iopub.status.busy": "2020-11-23T21:49:11.030912Z",
     "iopub.status.idle": "2020-11-23T21:49:11.076387Z",
     "shell.execute_reply": "2020-11-23T21:49:11.075202Z"
    },
    "papermill": {
     "duration": 0.326478,
     "end_time": "2020-11-23T21:49:11.076549",
     "exception": false,
     "start_time": "2020-11-23T21:49:10.750071",
     "status": "completed"
    },
    "tags": []
   },
   "outputs": [
    {
     "name": "stdout",
     "output_type": "stream",
     "text": [
      "Числовой признак client_id\n",
      "Уникальные значения в поле education : [3 1 4 2 0]\n",
      "Уникальные значения в поле sex : [1 0]\n",
      "Числовой признак age\n",
      "Уникальные значения в поле car : [1 0]\n",
      "Уникальные значения в поле car_type : [1 0]\n",
      "Числовой признак decline_app_cnt\n",
      "Уникальные значения в поле good_work : [0 1]\n",
      "Числовой признак score_bki\n",
      "Числовой признак bki_request_cnt\n",
      "Уникальные значения в поле region_rating : [50 80 60 40 70 20 30]\n",
      "Уникальные значения в поле home_address : [1 2 3]\n",
      "Уникальные значения в поле work_address : [2 3 1]\n",
      "Числовой признак income\n",
      "Уникальные значения в поле sna : [4 1 2 3]\n",
      "Уникальные значения в поле first_time : [1 4 3 2]\n",
      "Уникальные значения в поле foreign_passport : [0 1]\n",
      "Уникальные значения в поле default : [ 0.  1. nan]\n",
      "Уникальные значения в поле Train : [1 0]\n",
      "Числовой признак delta_time\n"
     ]
    }
   ],
   "source": [
    "cols = data.columns\n",
    "for col in cols:\n",
    "    if data[col].dtype != 'O' and len(data[col].unique())<=20:\n",
    "        print('Уникальные значения в поле {0} : {1}'.format(col,data[col].unique()))\n",
    "    else:\n",
    "        print('Числовой признак {}'.format(col))"
   ]
  },
  {
   "cell_type": "markdown",
   "metadata": {
    "papermill": {
     "duration": 0.273112,
     "end_time": "2020-11-23T21:49:11.623368",
     "exception": false,
     "start_time": "2020-11-23T21:49:11.350256",
     "status": "completed"
    },
    "tags": []
   },
   "source": [
    "Проанализируем числовые данные"
   ]
  },
  {
   "cell_type": "code",
   "execution_count": 107,
   "metadata": {
    "execution": {
     "iopub.execute_input": "2020-11-23T21:49:12.178228Z",
     "iopub.status.busy": "2020-11-23T21:49:12.176933Z",
     "iopub.status.idle": "2020-11-23T21:49:12.393772Z",
     "shell.execute_reply": "2020-11-23T21:49:12.393146Z"
    },
    "papermill": {
     "duration": 0.497599,
     "end_time": "2020-11-23T21:49:12.393913",
     "exception": false,
     "start_time": "2020-11-23T21:49:11.896314",
     "status": "completed"
    },
    "tags": []
   },
   "outputs": [],
   "source": [
    "# age\n",
    "\n",
    "age = AnalyzNumCol(data[data.Train == 1], 'age')"
   ]
  },
  {
   "cell_type": "code",
   "execution_count": 108,
   "metadata": {
    "execution": {
     "iopub.execute_input": "2020-11-23T21:49:12.947045Z",
     "iopub.status.busy": "2020-11-23T21:49:12.946130Z",
     "iopub.status.idle": "2020-11-23T21:49:13.630906Z",
     "shell.execute_reply": "2020-11-23T21:49:13.629969Z"
    },
    "papermill": {
     "duration": 0.96417,
     "end_time": "2020-11-23T21:49:13.631049",
     "exception": false,
     "start_time": "2020-11-23T21:49:12.666879",
     "status": "completed"
    },
    "tags": []
   },
   "outputs": [
    {
     "data": {
      "image/png": "[encoded data removed]",
      "text/plain": [
       "<Figure size 1080x360 with 3 Axes>"
      ]
     },
     "metadata": {
      "needs_background": "light"
     },
     "output_type": "display_data"
    }
   ],
   "source": [
    "age.show_plots()"
   ]
  },
  {
   "cell_type": "code",
   "execution_count": 109,
   "metadata": {
    "execution": {
     "iopub.execute_input": "2020-11-23T21:49:14.222481Z",
     "iopub.status.busy": "2020-11-23T21:49:14.216532Z",
     "iopub.status.idle": "2020-11-23T21:49:14.830955Z",
     "shell.execute_reply": "2020-11-23T21:49:14.830190Z"
    },
    "papermill": {
     "duration": 0.906919,
     "end_time": "2020-11-23T21:49:14.831079",
     "exception": false,
     "start_time": "2020-11-23T21:49:13.924160",
     "status": "completed"
    },
    "tags": []
   },
   "outputs": [
    {
     "data": {
      "image/png": "[encoded data removed]",
      "text/plain": [
       "<Figure size 1080x360 with 3 Axes>"
      ]
     },
     "metadata": {
      "needs_background": "light"
     },
     "output_type": "display_data"
    }
   ],
   "source": [
    "age.show_plots(log = True)"
   ]
  },
  {
   "cell_type": "markdown",
   "metadata": {
    "papermill": {
     "duration": 0.27652,
     "end_time": "2020-11-23T21:49:15.386172",
     "exception": false,
     "start_time": "2020-11-23T21:49:15.109652",
     "status": "completed"
    },
    "tags": []
   },
   "source": [
    "**Вывод**\n",
    "\n",
    "Признак распределен нормально. И выбросы отсутсвуют. Стоит отметить, что после логорифмирования признак к стал стремиться еще больше к нормальности. \n",
    "\n",
    "Таким образом логорифмируем признак age"
   ]
  },
  {
   "cell_type": "code",
   "execution_count": 110,
   "metadata": {
    "execution": {
     "iopub.execute_input": "2020-11-23T21:49:15.945395Z",
     "iopub.status.busy": "2020-11-23T21:49:15.944396Z",
     "iopub.status.idle": "2020-11-23T21:49:15.962850Z",
     "shell.execute_reply": "2020-11-23T21:49:15.962055Z"
    },
    "papermill": {
     "duration": 0.300841,
     "end_time": "2020-11-23T21:49:15.962973",
     "exception": false,
     "start_time": "2020-11-23T21:49:15.662132",
     "status": "completed"
    },
    "tags": []
   },
   "outputs": [],
   "source": [
    "data['age'] = np.log(data['age'] + 1)"
   ]
  },
  {
   "cell_type": "code",
   "execution_count": 111,
   "metadata": {
    "execution": {
     "iopub.execute_input": "2020-11-23T21:49:16.523974Z",
     "iopub.status.busy": "2020-11-23T21:49:16.523123Z",
     "iopub.status.idle": "2020-11-23T21:49:16.743921Z",
     "shell.execute_reply": "2020-11-23T21:49:16.743122Z"
    },
    "papermill": {
     "duration": 0.504214,
     "end_time": "2020-11-23T21:49:16.744045",
     "exception": false,
     "start_time": "2020-11-23T21:49:16.239831",
     "status": "completed"
    },
    "tags": []
   },
   "outputs": [],
   "source": [
    "# decline_app_cnt\n",
    "\n",
    "decline_app_cnt = AnalyzNumCol(data[data.Train == 1], 'decline_app_cnt')"
   ]
  },
  {
   "cell_type": "code",
   "execution_count": 112,
   "metadata": {
    "execution": {
     "iopub.execute_input": "2020-11-23T21:49:17.313752Z",
     "iopub.status.busy": "2020-11-23T21:49:17.311173Z",
     "iopub.status.idle": "2020-11-23T21:49:17.968196Z",
     "shell.execute_reply": "2020-11-23T21:49:17.967391Z"
    },
    "papermill": {
     "duration": 0.947267,
     "end_time": "2020-11-23T21:49:17.968336",
     "exception": false,
     "start_time": "2020-11-23T21:49:17.021069",
     "status": "completed"
    },
    "tags": []
   },
   "outputs": [
    {
     "data": {
      "image/png": "[encoded data removed]",
      "text/plain": [
       "<Figure size 1080x360 with 3 Axes>"
      ]
     },
     "metadata": {
      "needs_background": "light"
     },
     "output_type": "display_data"
    }
   ],
   "source": [
    "decline_app_cnt.show_plots()"
   ]
  },
  {
   "cell_type": "code",
   "execution_count": 113,
   "metadata": {
    "execution": {
     "iopub.execute_input": "2020-11-23T21:49:18.560220Z",
     "iopub.status.busy": "2020-11-23T21:49:18.558871Z",
     "iopub.status.idle": "2020-11-23T21:49:19.200177Z",
     "shell.execute_reply": "2020-11-23T21:49:19.199450Z"
    },
    "papermill": {
     "duration": 0.937606,
     "end_time": "2020-11-23T21:49:19.200298",
     "exception": false,
     "start_time": "2020-11-23T21:49:18.262692",
     "status": "completed"
    },
    "tags": []
   },
   "outputs": [
    {
     "data": {
      "image/png": "[encoded data removed]",
      "text/plain": [
       "<Figure size 1080x360 with 3 Axes>"
      ]
     },
     "metadata": {
      "needs_background": "light"
     },
     "output_type": "display_data"
    }
   ],
   "source": [
    "decline_app_cnt.show_plots(log = True)"
   ]
  },
  {
   "cell_type": "markdown",
   "metadata": {
    "papermill": {
     "duration": 0.293581,
     "end_time": "2020-11-23T21:49:19.773172",
     "exception": false,
     "start_time": "2020-11-23T21:49:19.479591",
     "status": "completed"
    },
    "tags": []
   },
   "source": [
    "**Вывод**\n",
    "\n",
    "В признаке decline_app_cnt наблюдается сильное смещение. Применение логорифмирования улучшело данный признак \n",
    "\n",
    "Просмотрим выбросы"
   ]
  },
  {
   "cell_type": "code",
   "execution_count": 114,
   "metadata": {
    "execution": {
     "iopub.execute_input": "2020-11-23T21:49:20.347818Z",
     "iopub.status.busy": "2020-11-23T21:49:20.346637Z",
     "iopub.status.idle": "2020-11-23T21:49:20.363685Z",
     "shell.execute_reply": "2020-11-23T21:49:20.364228Z"
    },
    "papermill": {
     "duration": 0.30773,
     "end_time": "2020-11-23T21:49:20.364405",
     "exception": false,
     "start_time": "2020-11-23T21:49:20.056675",
     "status": "completed"
    },
    "tags": []
   },
   "outputs": [
    {
     "name": "stdout",
     "output_type": "stream",
     "text": [
      "Суммарное количество выбросов для decline_app_cnt:  12585\n",
      "Суммарное количество выбросов для log(decline_app_cnt):  12585\n"
     ]
    }
   ],
   "source": [
    "print('Суммарное количество выбросов для decline_app_cnt: ', decline_app_cnt.amount_emissions())\n",
    "print('Суммарное количество выбросов для log(decline_app_cnt): ', decline_app_cnt.amount_emissions(log = True))"
   ]
  },
  {
   "cell_type": "code",
   "execution_count": 115,
   "metadata": {
    "execution": {
     "iopub.execute_input": "2020-11-23T21:49:20.928289Z",
     "iopub.status.busy": "2020-11-23T21:49:20.927478Z",
     "iopub.status.idle": "2020-11-23T21:49:20.941540Z",
     "shell.execute_reply": "2020-11-23T21:49:20.940900Z"
    },
    "papermill": {
     "duration": 0.297598,
     "end_time": "2020-11-23T21:49:20.941672",
     "exception": false,
     "start_time": "2020-11-23T21:49:20.644074",
     "status": "completed"
    },
    "tags": []
   },
   "outputs": [],
   "source": [
    "data['decline_app_cnt'] = np.log(data['decline_app_cnt'] + 1)"
   ]
  },
  {
   "cell_type": "markdown",
   "metadata": {
    "papermill": {
     "duration": 0.276801,
     "end_time": "2020-11-23T21:49:21.502878",
     "exception": false,
     "start_time": "2020-11-23T21:49:21.226077",
     "status": "completed"
    },
    "tags": []
   },
   "source": [
    "**Вывод**\n",
    "\n",
    "Выбросов большое количество, на данном этапе оставим их в работе\n",
    "\n"
   ]
  },
  {
   "cell_type": "markdown",
   "metadata": {
    "papermill": {
     "duration": 0.282135,
     "end_time": "2020-11-23T21:49:22.062872",
     "exception": false,
     "start_time": "2020-11-23T21:49:21.780737",
     "status": "completed"
    },
    "tags": []
   },
   "source": [
    "Так как в основе данного признака лежит отказ в кредитовании, то можно создать либо бинарный признак был отказ или не был отказ или категориальный признак: не было отказа (0), 1 отказ (1) и 2 и более отказов (2). Исходя из предыдущего анализа добавим бинарный признак"
   ]
  },
  {
   "cell_type": "code",
   "execution_count": 116,
   "metadata": {
    "execution": {
     "iopub.execute_input": "2020-11-23T21:49:22.635471Z",
     "iopub.status.busy": "2020-11-23T21:49:22.630611Z",
     "iopub.status.idle": "2020-11-23T21:49:22.726451Z",
     "shell.execute_reply": "2020-11-23T21:49:22.725804Z"
    },
    "papermill": {
     "duration": 0.383163,
     "end_time": "2020-11-23T21:49:22.726584",
     "exception": false,
     "start_time": "2020-11-23T21:49:22.343421",
     "status": "completed"
    },
    "tags": []
   },
   "outputs": [],
   "source": [
    "data['decline_yes'] = data['decline_app_cnt'].apply(lambda x: 0 if x < 1 else 1)"
   ]
  },
  {
   "cell_type": "code",
   "execution_count": 117,
   "metadata": {
    "execution": {
     "iopub.execute_input": "2020-11-23T21:49:23.292823Z",
     "iopub.status.busy": "2020-11-23T21:49:23.292053Z",
     "iopub.status.idle": "2020-11-23T21:49:23.501535Z",
     "shell.execute_reply": "2020-11-23T21:49:23.500700Z"
    },
    "papermill": {
     "duration": 0.496949,
     "end_time": "2020-11-23T21:49:23.501670",
     "exception": false,
     "start_time": "2020-11-23T21:49:23.004721",
     "status": "completed"
    },
    "tags": []
   },
   "outputs": [],
   "source": [
    "# score_bki\n",
    "\n",
    "score_bki = AnalyzNumCol(data[data.Train == 1], 'score_bki')"
   ]
  },
  {
   "cell_type": "code",
   "execution_count": 118,
   "metadata": {
    "execution": {
     "iopub.execute_input": "2020-11-23T21:49:24.080111Z",
     "iopub.status.busy": "2020-11-23T21:49:24.071471Z",
     "iopub.status.idle": "2020-11-23T21:49:24.825782Z",
     "shell.execute_reply": "2020-11-23T21:49:24.825181Z"
    },
    "papermill": {
     "duration": 1.041115,
     "end_time": "2020-11-23T21:49:24.825908",
     "exception": false,
     "start_time": "2020-11-23T21:49:23.784793",
     "status": "completed"
    },
    "tags": []
   },
   "outputs": [
    {
     "data": {
      "image/png": "[encoded data removed]",
      "text/plain": [
       "<Figure size 1080x360 with 3 Axes>"
      ]
     },
     "metadata": {
      "needs_background": "light"
     },
     "output_type": "display_data"
    }
   ],
   "source": [
    "score_bki.show_plots()"
   ]
  },
  {
   "cell_type": "code",
   "execution_count": 119,
   "metadata": {
    "execution": {
     "iopub.execute_input": "2020-11-23T21:49:25.511211Z",
     "iopub.status.busy": "2020-11-23T21:49:25.509667Z",
     "iopub.status.idle": "2020-11-23T21:49:25.970217Z",
     "shell.execute_reply": "2020-11-23T21:49:25.969580Z"
    },
    "papermill": {
     "duration": 0.861623,
     "end_time": "2020-11-23T21:49:25.970373",
     "exception": false,
     "start_time": "2020-11-23T21:49:25.108750",
     "status": "completed"
    },
    "tags": []
   },
   "outputs": [
    {
     "data": {
      "image/png": "[encoded data removed]",
      "text/plain": [
       "<Figure size 1080x360 with 3 Axes>"
      ]
     },
     "metadata": {
      "needs_background": "light"
     },
     "output_type": "display_data"
    }
   ],
   "source": [
    "score_bki.show_plots(log=True)"
   ]
  },
  {
   "cell_type": "markdown",
   "metadata": {
    "papermill": {
     "duration": 0.282212,
     "end_time": "2020-11-23T21:49:26.544098",
     "exception": false,
     "start_time": "2020-11-23T21:49:26.261886",
     "status": "completed"
    },
    "tags": []
   },
   "source": [
    "**Вывод**\n",
    "\n",
    "Признак нормально распределен но у него большое количество выбрасов. ПРосмотрим количество выбросов"
   ]
  },
  {
   "cell_type": "code",
   "execution_count": 120,
   "metadata": {
    "execution": {
     "iopub.execute_input": "2020-11-23T21:49:27.122871Z",
     "iopub.status.busy": "2020-11-23T21:49:27.122064Z",
     "iopub.status.idle": "2020-11-23T21:49:27.136196Z",
     "shell.execute_reply": "2020-11-23T21:49:27.136928Z"
    },
    "papermill": {
     "duration": 0.307445,
     "end_time": "2020-11-23T21:49:27.137133",
     "exception": false,
     "start_time": "2020-11-23T21:49:26.829688",
     "status": "completed"
    },
    "tags": []
   },
   "outputs": [
    {
     "name": "stdout",
     "output_type": "stream",
     "text": [
      "Суммарное количество выбросов для score_bki:  351\n",
      "Суммарное количество выбросов для log(score_bki):  85\n"
     ]
    }
   ],
   "source": [
    "print('Суммарное количество выбросов для score_bki: ', score_bki.amount_emissions())\n",
    "print('Суммарное количество выбросов для log(score_bki): ', score_bki.amount_emissions(log = True))"
   ]
  },
  {
   "cell_type": "markdown",
   "metadata": {
    "papermill": {
     "duration": 0.281974,
     "end_time": "2020-11-23T21:49:27.703616",
     "exception": false,
     "start_time": "2020-11-23T21:49:27.421642",
     "status": "completed"
    },
    "tags": []
   },
   "source": [
    "**Вывод**\n",
    "Признак логорифмировать не будем, удалать выбросы не будем т.к. их небольшое количество"
   ]
  },
  {
   "cell_type": "code",
   "execution_count": 121,
   "metadata": {
    "execution": {
     "iopub.execute_input": "2020-11-23T21:49:28.278700Z",
     "iopub.status.busy": "2020-11-23T21:49:28.277887Z",
     "iopub.status.idle": "2020-11-23T21:49:28.494190Z",
     "shell.execute_reply": "2020-11-23T21:49:28.493401Z"
    },
    "papermill": {
     "duration": 0.507702,
     "end_time": "2020-11-23T21:49:28.494318",
     "exception": false,
     "start_time": "2020-11-23T21:49:27.986616",
     "status": "completed"
    },
    "tags": []
   },
   "outputs": [],
   "source": [
    "# bki_request_cnt\n",
    "\n",
    "bki_request_cnt = AnalyzNumCol(data[data.Train == 1], 'bki_request_cnt')"
   ]
  },
  {
   "cell_type": "code",
   "execution_count": 122,
   "metadata": {
    "execution": {
     "iopub.execute_input": "2020-11-23T21:49:29.072461Z",
     "iopub.status.busy": "2020-11-23T21:49:29.066819Z",
     "iopub.status.idle": "2020-11-23T21:49:29.656114Z",
     "shell.execute_reply": "2020-11-23T21:49:29.655364Z"
    },
    "papermill": {
     "duration": 0.878201,
     "end_time": "2020-11-23T21:49:29.656247",
     "exception": false,
     "start_time": "2020-11-23T21:49:28.778046",
     "status": "completed"
    },
    "tags": []
   },
   "outputs": [
    {
     "data": {
      "image/png": "[encoded data removed]",
      "text/plain": [
       "<Figure size 1080x360 with 3 Axes>"
      ]
     },
     "metadata": {
      "needs_background": "light"
     },
     "output_type": "display_data"
    }
   ],
   "source": [
    "bki_request_cnt.show_plots()"
   ]
  },
  {
   "cell_type": "code",
   "execution_count": 123,
   "metadata": {
    "execution": {
     "iopub.execute_input": "2020-11-23T21:49:30.242253Z",
     "iopub.status.busy": "2020-11-23T21:49:30.241143Z",
     "iopub.status.idle": "2020-11-23T21:49:30.832731Z",
     "shell.execute_reply": "2020-11-23T21:49:30.832109Z"
    },
    "papermill": {
     "duration": 0.893117,
     "end_time": "2020-11-23T21:49:30.832861",
     "exception": false,
     "start_time": "2020-11-23T21:49:29.939744",
     "status": "completed"
    },
    "tags": []
   },
   "outputs": [
    {
     "data": {
      "image/png": "[encoded data removed]",
      "text/plain": [
       "<Figure size 1080x360 with 3 Axes>"
      ]
     },
     "metadata": {
      "needs_background": "light"
     },
     "output_type": "display_data"
    }
   ],
   "source": [
    "bki_request_cnt.show_plots(log = True)"
   ]
  },
  {
   "cell_type": "markdown",
   "metadata": {
    "papermill": {
     "duration": 0.287769,
     "end_time": "2020-11-23T21:49:31.408433",
     "exception": false,
     "start_time": "2020-11-23T21:49:31.120664",
     "status": "completed"
    },
    "tags": []
   },
   "source": [
    "**Вывод **\n",
    "\n",
    "При логорифмировании критерий становиться ближе к нормальному распределению. У нас есть выбросы, которые необходимо дополнительно обработать"
   ]
  },
  {
   "cell_type": "code",
   "execution_count": 124,
   "metadata": {
    "execution": {
     "iopub.execute_input": "2020-11-23T21:49:31.992471Z",
     "iopub.status.busy": "2020-11-23T21:49:31.991628Z",
     "iopub.status.idle": "2020-11-23T21:49:32.009178Z",
     "shell.execute_reply": "2020-11-23T21:49:32.008419Z"
    },
    "papermill": {
     "duration": 0.310682,
     "end_time": "2020-11-23T21:49:32.009336",
     "exception": false,
     "start_time": "2020-11-23T21:49:31.698654",
     "status": "completed"
    },
    "tags": []
   },
   "outputs": [
    {
     "name": "stdout",
     "output_type": "stream",
     "text": [
      "Суммарное количество выбросов для bki_request_cnt:  1755\n",
      "Суммарное количество выбросов для log(bki_request_cnt):  9\n"
     ]
    }
   ],
   "source": [
    "print('Суммарное количество выбросов для bki_request_cnt: ', bki_request_cnt.amount_emissions())\n",
    "print('Суммарное количество выбросов для log(bki_request_cnt): ', bki_request_cnt.amount_emissions(log = True))"
   ]
  },
  {
   "cell_type": "code",
   "execution_count": 125,
   "metadata": {
    "execution": {
     "iopub.execute_input": "2020-11-23T21:49:32.591554Z",
     "iopub.status.busy": "2020-11-23T21:49:32.590776Z",
     "iopub.status.idle": "2020-11-23T21:49:32.602619Z",
     "shell.execute_reply": "2020-11-23T21:49:32.601799Z"
    },
    "papermill": {
     "duration": 0.304784,
     "end_time": "2020-11-23T21:49:32.602746",
     "exception": false,
     "start_time": "2020-11-23T21:49:32.297962",
     "status": "completed"
    },
    "tags": []
   },
   "outputs": [],
   "source": [
    "data['bki_request_cnt'] = np.log(data['bki_request_cnt'] + 1)"
   ]
  },
  {
   "cell_type": "markdown",
   "metadata": {
    "papermill": {
     "duration": 0.336251,
     "end_time": "2020-11-23T21:49:33.226216",
     "exception": false,
     "start_time": "2020-11-23T21:49:32.889965",
     "status": "completed"
    },
    "tags": []
   },
   "source": [
    "После логорифмирования количество выбросов существенно уменьшилось.\n",
    "\n",
    "Также благодаря ранее сделанному анализу можно добавть бинарный признак до 10 запросов и более (в итоге признак не подешел)"
   ]
  },
  {
   "cell_type": "code",
   "execution_count": 126,
   "metadata": {
    "execution": {
     "iopub.execute_input": "2020-11-23T21:49:33.811993Z",
     "iopub.status.busy": "2020-11-23T21:49:33.810943Z",
     "iopub.status.idle": "2020-11-23T21:49:33.814381Z",
     "shell.execute_reply": "2020-11-23T21:49:33.813761Z"
    },
    "papermill": {
     "duration": 0.294081,
     "end_time": "2020-11-23T21:49:33.814513",
     "exception": false,
     "start_time": "2020-11-23T21:49:33.520432",
     "status": "completed"
    },
    "tags": []
   },
   "outputs": [],
   "source": [
    "#data['bki_request_cnt_10'] = data['bki_request_cnt'].apply(lambda x: 0 if x <= 10 else 1)"
   ]
  },
  {
   "cell_type": "code",
   "execution_count": 127,
   "metadata": {
    "execution": {
     "iopub.execute_input": "2020-11-23T21:49:34.405133Z",
     "iopub.status.busy": "2020-11-23T21:49:34.404392Z",
     "iopub.status.idle": "2020-11-23T21:49:34.630496Z",
     "shell.execute_reply": "2020-11-23T21:49:34.629814Z"
    },
    "papermill": {
     "duration": 0.520344,
     "end_time": "2020-11-23T21:49:34.630629",
     "exception": false,
     "start_time": "2020-11-23T21:49:34.110285",
     "status": "completed"
    },
    "tags": []
   },
   "outputs": [],
   "source": [
    "# income\n",
    "\n",
    "income = AnalyzNumCol(data[data.Train == 1], 'income')"
   ]
  },
  {
   "cell_type": "code",
   "execution_count": 128,
   "metadata": {
    "execution": {
     "iopub.execute_input": "2020-11-23T21:49:35.222248Z",
     "iopub.status.busy": "2020-11-23T21:49:35.215206Z",
     "iopub.status.idle": "2020-11-23T21:49:35.835828Z",
     "shell.execute_reply": "2020-11-23T21:49:35.834941Z"
    },
    "papermill": {
     "duration": 0.919492,
     "end_time": "2020-11-23T21:49:35.835956",
     "exception": false,
     "start_time": "2020-11-23T21:49:34.916464",
     "status": "completed"
    },
    "tags": []
   },
   "outputs": [
    {
     "data": {
      "image/png": "[encoded data removed]",
      "text/plain": [
       "<Figure size 1080x360 with 3 Axes>"
      ]
     },
     "metadata": {
      "needs_background": "light"
     },
     "output_type": "display_data"
    }
   ],
   "source": [
    "income.show_plots()"
   ]
  },
  {
   "cell_type": "code",
   "execution_count": 129,
   "metadata": {
    "execution": {
     "iopub.execute_input": "2020-11-23T21:49:36.482738Z",
     "iopub.status.busy": "2020-11-23T21:49:36.480464Z",
     "iopub.status.idle": "2020-11-23T21:49:37.105267Z",
     "shell.execute_reply": "2020-11-23T21:49:37.104653Z"
    },
    "papermill": {
     "duration": 0.925091,
     "end_time": "2020-11-23T21:49:37.105403",
     "exception": false,
     "start_time": "2020-11-23T21:49:36.180312",
     "status": "completed"
    },
    "tags": []
   },
   "outputs": [
    {
     "data": {
      "image/png": "[encoded data removed]",
      "text/plain": [
       "<Figure size 1080x360 with 3 Axes>"
      ]
     },
     "metadata": {
      "needs_background": "light"
     },
     "output_type": "display_data"
    }
   ],
   "source": [
    "income.show_plots(log = True)"
   ]
  },
  {
   "cell_type": "markdown",
   "metadata": {
    "papermill": {
     "duration": 0.286996,
     "end_time": "2020-11-23T21:49:37.681900",
     "exception": false,
     "start_time": "2020-11-23T21:49:37.394904",
     "status": "completed"
    },
    "tags": []
   },
   "source": [
    "Вывод логорифмирование существенно улучшело распределение признака, прологорифмируем признак и проверем количество пропусков"
   ]
  },
  {
   "cell_type": "code",
   "execution_count": 130,
   "metadata": {
    "execution": {
     "iopub.execute_input": "2020-11-23T21:49:38.281787Z",
     "iopub.status.busy": "2020-11-23T21:49:38.280983Z",
     "iopub.status.idle": "2020-11-23T21:49:38.302811Z",
     "shell.execute_reply": "2020-11-23T21:49:38.302168Z"
    },
    "papermill": {
     "duration": 0.32277,
     "end_time": "2020-11-23T21:49:38.302933",
     "exception": false,
     "start_time": "2020-11-23T21:49:37.980163",
     "status": "completed"
    },
    "tags": []
   },
   "outputs": [
    {
     "name": "stdout",
     "output_type": "stream",
     "text": [
      "Суммарное количество выбросов для income:  4695\n",
      "Суммарное количество выбросов для log(income):  1767\n"
     ]
    }
   ],
   "source": [
    "print('Суммарное количество выбросов для income: ', income.amount_emissions())\n",
    "print('Суммарное количество выбросов для log(income): ', income.amount_emissions(log = True))"
   ]
  },
  {
   "cell_type": "markdown",
   "metadata": {
    "papermill": {
     "duration": 0.288129,
     "end_time": "2020-11-23T21:49:38.890169",
     "exception": false,
     "start_time": "2020-11-23T21:49:38.602040",
     "status": "completed"
    },
    "tags": []
   },
   "source": [
    "Выбросы удолять пока не будем."
   ]
  },
  {
   "cell_type": "code",
   "execution_count": 131,
   "metadata": {
    "execution": {
     "iopub.execute_input": "2020-11-23T21:49:39.479480Z",
     "iopub.status.busy": "2020-11-23T21:49:39.478443Z",
     "iopub.status.idle": "2020-11-23T21:49:39.491742Z",
     "shell.execute_reply": "2020-11-23T21:49:39.491006Z"
    },
    "papermill": {
     "duration": 0.310071,
     "end_time": "2020-11-23T21:49:39.491864",
     "exception": false,
     "start_time": "2020-11-23T21:49:39.181793",
     "status": "completed"
    },
    "tags": []
   },
   "outputs": [],
   "source": [
    "data['income'] = np.log(data['income'] + 1)"
   ]
  },
  {
   "cell_type": "code",
   "execution_count": 132,
   "metadata": {
    "execution": {
     "iopub.execute_input": "2020-11-23T21:49:40.087821Z",
     "iopub.status.busy": "2020-11-23T21:49:40.087012Z",
     "iopub.status.idle": "2020-11-23T21:49:40.317749Z",
     "shell.execute_reply": "2020-11-23T21:49:40.316952Z"
    },
    "papermill": {
     "duration": 0.532616,
     "end_time": "2020-11-23T21:49:40.317873",
     "exception": false,
     "start_time": "2020-11-23T21:49:39.785257",
     "status": "completed"
    },
    "tags": []
   },
   "outputs": [],
   "source": [
    "# delta_time\n",
    "\n",
    "delta_time = AnalyzNumCol(data[data.Train == 1], 'delta_time')"
   ]
  },
  {
   "cell_type": "code",
   "execution_count": 133,
   "metadata": {
    "execution": {
     "iopub.execute_input": "2020-11-23T21:49:40.926005Z",
     "iopub.status.busy": "2020-11-23T21:49:40.923224Z",
     "iopub.status.idle": "2020-11-23T21:49:41.537284Z",
     "shell.execute_reply": "2020-11-23T21:49:41.536652Z"
    },
    "papermill": {
     "duration": 0.928024,
     "end_time": "2020-11-23T21:49:41.537429",
     "exception": false,
     "start_time": "2020-11-23T21:49:40.609405",
     "status": "completed"
    },
    "tags": []
   },
   "outputs": [
    {
     "data": {
      "image/png": "[encoded data removed]",
      "text/plain": [
       "<Figure size 1080x360 with 3 Axes>"
      ]
     },
     "metadata": {
      "needs_background": "light"
     },
     "output_type": "display_data"
    }
   ],
   "source": [
    "delta_time.show_plots()"
   ]
  },
  {
   "cell_type": "code",
   "execution_count": 134,
   "metadata": {
    "execution": {
     "iopub.execute_input": "2020-11-23T21:49:42.138564Z",
     "iopub.status.busy": "2020-11-23T21:49:42.137485Z",
     "iopub.status.idle": "2020-11-23T21:49:42.894881Z",
     "shell.execute_reply": "2020-11-23T21:49:42.895507Z"
    },
    "papermill": {
     "duration": 1.069018,
     "end_time": "2020-11-23T21:49:42.895664",
     "exception": false,
     "start_time": "2020-11-23T21:49:41.826646",
     "status": "completed"
    },
    "tags": []
   },
   "outputs": [
    {
     "data": {
      "image/png": "[encoded data removed]",
      "text/plain": [
       "<Figure size 1080x360 with 3 Axes>"
      ]
     },
     "metadata": {
      "needs_background": "light"
     },
     "output_type": "display_data"
    }
   ],
   "source": [
    "delta_time.show_plots(log = True)"
   ]
  },
  {
   "cell_type": "markdown",
   "metadata": {
    "papermill": {
     "duration": 0.292666,
     "end_time": "2020-11-23T21:49:43.488333",
     "exception": false,
     "start_time": "2020-11-23T21:49:43.195667",
     "status": "completed"
    },
    "tags": []
   },
   "source": [
    "Логорифмирование никак не повлияли на признак, выбросов у признака нет"
   ]
  },
  {
   "cell_type": "code",
   "execution_count": 135,
   "metadata": {
    "execution": {
     "iopub.execute_input": "2020-11-23T21:49:44.102245Z",
     "iopub.status.busy": "2020-11-23T21:49:44.101427Z",
     "iopub.status.idle": "2020-11-23T21:49:44.104962Z",
     "shell.execute_reply": "2020-11-23T21:49:44.104247Z"
    },
    "papermill": {
     "duration": 0.302485,
     "end_time": "2020-11-23T21:49:44.105091",
     "exception": false,
     "start_time": "2020-11-23T21:49:43.802606",
     "status": "completed"
    },
    "tags": []
   },
   "outputs": [],
   "source": [
    "# q_app\n",
    "\n",
    "#q_app = AnalyzNumCol(data[data.Train == 1], 'q_app')"
   ]
  },
  {
   "cell_type": "code",
   "execution_count": 136,
   "metadata": {
    "execution": {
     "iopub.execute_input": "2020-11-23T21:49:44.693914Z",
     "iopub.status.busy": "2020-11-23T21:49:44.693163Z",
     "iopub.status.idle": "2020-11-23T21:49:44.696594Z",
     "shell.execute_reply": "2020-11-23T21:49:44.695858Z"
    },
    "papermill": {
     "duration": 0.299824,
     "end_time": "2020-11-23T21:49:44.696727",
     "exception": false,
     "start_time": "2020-11-23T21:49:44.396903",
     "status": "completed"
    },
    "tags": []
   },
   "outputs": [],
   "source": [
    "#q_app.show_plots()"
   ]
  },
  {
   "cell_type": "code",
   "execution_count": 137,
   "metadata": {
    "execution": {
     "iopub.execute_input": "2020-11-23T21:49:45.285991Z",
     "iopub.status.busy": "2020-11-23T21:49:45.284989Z",
     "iopub.status.idle": "2020-11-23T21:49:45.288698Z",
     "shell.execute_reply": "2020-11-23T21:49:45.287986Z"
    },
    "papermill": {
     "duration": 0.300344,
     "end_time": "2020-11-23T21:49:45.288818",
     "exception": false,
     "start_time": "2020-11-23T21:49:44.988474",
     "status": "completed"
    },
    "tags": []
   },
   "outputs": [],
   "source": [
    "#q_app.show_plots(log = True)"
   ]
  },
  {
   "cell_type": "markdown",
   "metadata": {
    "papermill": {
     "duration": 0.291151,
     "end_time": "2020-11-23T21:49:45.873089",
     "exception": false,
     "start_time": "2020-11-23T21:49:45.581938",
     "status": "completed"
    },
    "tags": []
   },
   "source": [
    "критерий не стоит логорифмировать"
   ]
  },
  {
   "cell_type": "code",
   "execution_count": 138,
   "metadata": {
    "execution": {
     "iopub.execute_input": "2020-11-23T21:49:46.465545Z",
     "iopub.status.busy": "2020-11-23T21:49:46.464682Z",
     "iopub.status.idle": "2020-11-23T21:49:46.484074Z",
     "shell.execute_reply": "2020-11-23T21:49:46.482896Z"
    },
    "papermill": {
     "duration": 0.318269,
     "end_time": "2020-11-23T21:49:46.484268",
     "exception": false,
     "start_time": "2020-11-23T21:49:46.165999",
     "status": "completed"
    },
    "tags": []
   },
   "outputs": [
    {
     "name": "stdout",
     "output_type": "stream",
     "text": [
      "<class 'pandas.core.frame.DataFrame'>\n",
      "RangeIndex: 110148 entries, 0 to 110147\n",
      "Data columns (total 21 columns):\n",
      "client_id           110148 non-null int64\n",
      "education           110148 non-null int32\n",
      "sex                 110148 non-null int32\n",
      "age                 110148 non-null float64\n",
      "car                 110148 non-null int32\n",
      "car_type            110148 non-null int32\n",
      "decline_app_cnt     110148 non-null float64\n",
      "good_work           110148 non-null int64\n",
      "score_bki           110148 non-null float64\n",
      "bki_request_cnt     110148 non-null float64\n",
      "region_rating       110148 non-null int64\n",
      "home_address        110148 non-null int64\n",
      "work_address        110148 non-null int64\n",
      "income              110148 non-null float64\n",
      "sna                 110148 non-null int64\n",
      "first_time          110148 non-null int64\n",
      "foreign_passport    110148 non-null int32\n",
      "default             73799 non-null float64\n",
      "Train               110148 non-null int64\n",
      "delta_time          110148 non-null int64\n",
      "decline_yes         110148 non-null int64\n",
      "dtypes: float64(6), int32(5), int64(10)\n",
      "memory usage: 15.5 MB\n"
     ]
    }
   ],
   "source": [
    "data.info()"
   ]
  },
  {
   "cell_type": "code",
   "execution_count": 139,
   "metadata": {
    "execution": {
     "iopub.execute_input": "2020-11-23T21:49:47.136176Z",
     "iopub.status.busy": "2020-11-23T21:49:47.135300Z",
     "iopub.status.idle": "2020-11-23T21:49:47.226329Z",
     "shell.execute_reply": "2020-11-23T21:49:47.225687Z"
    },
    "papermill": {
     "duration": 0.412352,
     "end_time": "2020-11-23T21:49:47.226481",
     "exception": false,
     "start_time": "2020-11-23T21:49:46.814129",
     "status": "completed"
    },
    "tags": []
   },
   "outputs": [
    {
     "name": "stdout",
     "output_type": "stream",
     "text": [
      "client_id\n",
      "2047     1\n",
      "97541    1\n",
      "93447    1\n",
      "70920    1\n",
      "72969    1\n",
      "        ..\n",
      "47810    1\n",
      "45763    1\n",
      "35524    1\n",
      "33477    1\n",
      "2049     1\n",
      "Name: client_id, Length: 110148, dtype: int64\n",
      "education\n",
      "3    58476\n",
      "1    34768\n",
      "4    14748\n",
      "2     1865\n",
      "0      291\n",
      "Name: education, dtype: int64\n",
      "sex\n",
      "0    61836\n",
      "1    48312\n",
      "Name: sex, dtype: int64\n",
      "age\n",
      "3.465736    4084\n",
      "3.433987    4035\n",
      "3.367296    4035\n",
      "3.332205    3964\n",
      "3.401197    3940\n",
      "3.295837    3780\n",
      "3.496508    3773\n",
      "3.555348    3548\n",
      "3.526361    3499\n",
      "3.583519    3386\n",
      "3.258097    3292\n",
      "3.610918    3228\n",
      "3.637586    3185\n",
      "3.688879    3095\n",
      "3.663562    3070\n",
      "3.713572    2950\n",
      "3.761200    2857\n",
      "3.737670    2804\n",
      "3.218876    2780\n",
      "3.784190    2672\n",
      "3.806662    2536\n",
      "3.178054    2295\n",
      "3.828641    2235\n",
      "3.931826    2104\n",
      "3.850148    2102\n",
      "3.891820    2084\n",
      "3.871201    2074\n",
      "3.970292    2065\n",
      "3.951244    2015\n",
      "3.988984    1980\n",
      "3.912023    1964\n",
      "4.007333    1911\n",
      "4.025352    1837\n",
      "4.043051    1641\n",
      "4.060443    1578\n",
      "3.135494    1415\n",
      "4.077537    1373\n",
      "4.094345    1340\n",
      "3.091042    1262\n",
      "4.110874    1236\n",
      "4.127134     975\n",
      "4.143135     885\n",
      "4.158883     720\n",
      "4.174387     663\n",
      "4.189655     618\n",
      "4.204693     442\n",
      "4.219508     382\n",
      "4.234107     261\n",
      "4.248495     110\n",
      "4.262680      60\n",
      "4.276666       6\n",
      "4.290459       2\n",
      "Name: age, dtype: int64\n",
      "car\n",
      "0    74290\n",
      "1    35858\n",
      "Name: car, dtype: int64\n",
      "car_type\n",
      "0    89140\n",
      "1    21008\n",
      "Name: car_type, dtype: int64\n",
      "decline_app_cnt\n",
      "0.000000    91471\n",
      "0.693147    12500\n",
      "1.098612     3622\n",
      "1.386294     1365\n",
      "1.609438      606\n",
      "1.791759      255\n",
      "1.945910      156\n",
      "2.079442       58\n",
      "2.197225       37\n",
      "2.302585       29\n",
      "2.397895       16\n",
      "2.484907       10\n",
      "2.564949        5\n",
      "2.639057        4\n",
      "2.833213        3\n",
      "2.708050        3\n",
      "2.772589        1\n",
      "3.135494        1\n",
      "3.218876        1\n",
      "3.526361        1\n",
      "2.995732        1\n",
      "3.433987        1\n",
      "3.044522        1\n",
      "3.091042        1\n",
      "Name: decline_app_cnt, dtype: int64\n",
      "good_work\n",
      "0    91917\n",
      "1    18231\n",
      "Name: good_work, dtype: int64\n",
      "score_bki\n",
      "-1.775263    517\n",
      "-2.104211    454\n",
      "-2.225004    424\n",
      "-2.169664    375\n",
      "-2.024100    278\n",
      "            ... \n",
      "-2.031749      1\n",
      "-1.203467      1\n",
      "-1.362200      1\n",
      "-1.633495      1\n",
      "-2.058911      1\n",
      "Name: score_bki, Length: 102618, dtype: int64\n",
      "bki_request_cnt\n",
      "0.000000    28908\n",
      "0.693147    27295\n",
      "1.098612    20481\n",
      "1.386294    13670\n",
      "1.609438     8406\n",
      "1.791759     4960\n",
      "1.945910     2500\n",
      "2.079442     1292\n",
      "2.197225      735\n",
      "2.302585      459\n",
      "2.397895      350\n",
      "2.484907      278\n",
      "2.564949      217\n",
      "2.639057      151\n",
      "2.708050      110\n",
      "2.772589       81\n",
      "2.833213       58\n",
      "2.890372       33\n",
      "2.944439       32\n",
      "2.995732       30\n",
      "3.091042       19\n",
      "3.044522       14\n",
      "3.218876       12\n",
      "3.178054       12\n",
      "3.135494        8\n",
      "3.367296        5\n",
      "3.258097        5\n",
      "3.332205        5\n",
      "3.496508        4\n",
      "3.295837        4\n",
      "3.401197        3\n",
      "3.526361        2\n",
      "3.713572        2\n",
      "3.828641        1\n",
      "3.871201        1\n",
      "3.610918        1\n",
      "3.850148        1\n",
      "3.988984        1\n",
      "3.737670        1\n",
      "3.555348        1\n",
      "Name: bki_request_cnt, dtype: int64\n",
      "region_rating\n",
      "50    40981\n",
      "60    23999\n",
      "40    17947\n",
      "80    17170\n",
      "70     9304\n",
      "30      434\n",
      "20      313\n",
      "Name: region_rating, dtype: int64\n",
      "home_address\n",
      "2    59591\n",
      "1    48688\n",
      "3     1869\n",
      "Name: home_address, dtype: int64\n",
      "work_address\n",
      "3    67113\n",
      "2    30761\n",
      "1    12274\n",
      "Name: work_address, dtype: int64\n",
      "income\n",
      "10.308986    10437\n",
      "10.126671     9090\n",
      "9.903538      8174\n",
      "10.596660     7383\n",
      "10.819798     6742\n",
      "             ...  \n",
      "9.806811         1\n",
      "9.746307         1\n",
      "8.243019         1\n",
      "9.120525         1\n",
      "10.833701        1\n",
      "Name: income, Length: 1207, dtype: int64\n",
      "sna\n",
      "1    70681\n",
      "4    17481\n",
      "2    15832\n",
      "3     6154\n",
      "Name: sna, dtype: int64\n",
      "first_time\n",
      "3    46588\n",
      "4    28017\n",
      "1    18296\n",
      "2    17247\n",
      "Name: first_time, dtype: int64\n",
      "foreign_passport\n",
      "0    93721\n",
      "1    16427\n",
      "Name: foreign_passport, dtype: int64\n",
      "default\n",
      "0.0    64427\n",
      "1.0     9372\n",
      "Name: default, dtype: int64\n",
      "Train\n",
      "1    73799\n",
      "0    36349\n",
      "Name: Train, dtype: int64\n",
      "delta_time\n",
      "2480    1491\n",
      "2479    1363\n",
      "2481    1350\n",
      "2467    1317\n",
      "2460    1296\n",
      "        ... \n",
      "2447     359\n",
      "2550     349\n",
      "2554     313\n",
      "2555     204\n",
      "2556      56\n",
      "Name: delta_time, Length: 120, dtype: int64\n",
      "decline_yes\n",
      "0    103971\n",
      "1      6177\n",
      "Name: decline_yes, dtype: int64\n"
     ]
    }
   ],
   "source": [
    "for i in data.columns:\n",
    "    print(i)\n",
    "    print(data[i].value_counts())"
   ]
  },
  {
   "cell_type": "code",
   "execution_count": 140,
   "metadata": {
    "execution": {
     "iopub.execute_input": "2020-11-23T21:49:47.837053Z",
     "iopub.status.busy": "2020-11-23T21:49:47.836255Z",
     "iopub.status.idle": "2020-11-23T21:49:47.839869Z",
     "shell.execute_reply": "2020-11-23T21:49:47.839194Z"
    },
    "papermill": {
     "duration": 0.311882,
     "end_time": "2020-11-23T21:49:47.839996",
     "exception": false,
     "start_time": "2020-11-23T21:49:47.528114",
     "status": "completed"
    },
    "tags": []
   },
   "outputs": [],
   "source": [
    "bin_cols = ['sex', 'car', 'car_type', 'foreign_passport', 'good_work']\n",
    "cat_cols = ['education', 'home_address', 'work_address', 'region_rating', 'sna', 'first_time']\n",
    "num_cols = ['age', 'decline_app_cnt', 'score_bki', 'bki_request_cnt', 'income', 'delta_time']"
   ]
  },
  {
   "cell_type": "markdown",
   "metadata": {
    "papermill": {
     "duration": 0.301225,
     "end_time": "2020-11-23T21:49:48.444008",
     "exception": false,
     "start_time": "2020-11-23T21:49:48.142783",
     "status": "completed"
    },
    "tags": []
   },
   "source": [
    "Выделим поля с числовыми, бинарными и категориальными данными"
   ]
  },
  {
   "cell_type": "code",
   "execution_count": 141,
   "metadata": {
    "execution": {
     "iopub.execute_input": "2020-11-23T21:49:49.077835Z",
     "iopub.status.busy": "2020-11-23T21:49:49.074892Z",
     "iopub.status.idle": "2020-11-23T21:49:51.130132Z",
     "shell.execute_reply": "2020-11-23T21:49:51.130727Z"
    },
    "papermill": {
     "duration": 2.383458,
     "end_time": "2020-11-23T21:49:51.130876",
     "exception": false,
     "start_time": "2020-11-23T21:49:48.747418",
     "status": "completed"
    },
    "tags": []
   },
   "outputs": [
    {
     "data": {
      "image/png": "[encoded data removed]",
      "text/plain": [
       "<Figure size 1440x1440 with 2 Axes>"
      ]
     },
     "metadata": {
      "needs_background": "light"
     },
     "output_type": "display_data"
    }
   ],
   "source": [
    "fig, ax = plt.subplots(1,1, figsize = (20,20))\n",
    "ax = sns.heatmap(data.corr(),annot = True, cmap = 'plasma')"
   ]
  },
  {
   "cell_type": "markdown",
   "metadata": {
    "papermill": {
     "duration": 0.308587,
     "end_time": "2020-11-23T21:49:51.787298",
     "exception": false,
     "start_time": "2020-11-23T21:49:51.478711",
     "status": "completed"
    },
    "tags": []
   },
   "source": [
    "**Вывод**\n",
    "\n",
    "таким образом созданный признак имеет высокий коэффициент корреляции, признак bki_request_cnt_10 удаляем"
   ]
  },
  {
   "cell_type": "markdown",
   "metadata": {
    "papermill": {
     "duration": 0.301301,
     "end_time": "2020-11-23T21:49:52.392449",
     "exception": false,
     "start_time": "2020-11-23T21:49:52.091148",
     "status": "completed"
    },
    "tags": []
   },
   "source": [
    "Проверим значимость непрерывных переменных (на основе однофакторного дисперсионного анализа (ANOVA)) Для оценки значимости числовых переменных будем использовать функцию f_classif из библиотеки sklearn.\n",
    "\n",
    "В качестве меры значимости мы будем использовать значение f -статистики. Чем значение статистики выше, тем меньше вероятность того, что средние значения не отличаются, и тем важнее данный признак для нашей линейной модели."
   ]
  },
  {
   "cell_type": "code",
   "execution_count": 142,
   "metadata": {
    "execution": {
     "iopub.execute_input": "2020-11-23T21:49:53.005107Z",
     "iopub.status.busy": "2020-11-23T21:49:53.004315Z",
     "iopub.status.idle": "2020-11-23T21:49:53.295960Z",
     "shell.execute_reply": "2020-11-23T21:49:53.295182Z"
    },
    "papermill": {
     "duration": 0.601045,
     "end_time": "2020-11-23T21:49:53.296100",
     "exception": false,
     "start_time": "2020-11-23T21:49:52.695055",
     "status": "completed"
    },
    "tags": []
   },
   "outputs": [
    {
     "data": {
      "text/plain": [
       "<matplotlib.axes._subplots.AxesSubplot at 0x1e851074d08>"
      ]
     },
     "execution_count": 142,
     "metadata": {},
     "output_type": "execute_result"
    },
    {
     "data": {
      "image/png": "[encoded data removed]",
      "text/plain": [
       "<Figure size 432x288 with 1 Axes>"
      ]
     },
     "metadata": {
      "needs_background": "light"
     },
     "output_type": "display_data"
    }
   ],
   "source": [
    "imp_num = Series(f_classif(data[data.Train == 1].drop(['Train', 'default'], axis = 1), data[data.Train == 1]['default'])[0], index = data.drop(['Train', 'default'], axis = 1).columns)\n",
    "imp_num.sort_values(inplace = True)\n",
    "imp_num.plot(kind = 'barh')"
   ]
  },
  {
   "cell_type": "markdown",
   "metadata": {
    "papermill": {
     "duration": 0.302491,
     "end_time": "2020-11-23T21:49:53.900700",
     "exception": false,
     "start_time": "2020-11-23T21:49:53.598209",
     "status": "completed"
    },
    "tags": []
   },
   "source": [
    "Самым значимым фактором является score_bki мене значимыми факторами пол и возраст"
   ]
  },
  {
   "cell_type": "code",
   "execution_count": 143,
   "metadata": {
    "execution": {
     "iopub.execute_input": "2020-11-23T21:49:54.520415Z",
     "iopub.status.busy": "2020-11-23T21:49:54.519112Z",
     "iopub.status.idle": "2020-11-23T21:49:55.447253Z",
     "shell.execute_reply": "2020-11-23T21:49:55.446489Z"
    },
    "papermill": {
     "duration": 1.244363,
     "end_time": "2020-11-23T21:49:55.447397",
     "exception": false,
     "start_time": "2020-11-23T21:49:54.203034",
     "status": "completed"
    },
    "tags": []
   },
   "outputs": [
    {
     "data": {
      "image/png": "[encoded data removed]",
      "text/plain": [
       "<Figure size 1080x1080 with 6 Axes>"
      ]
     },
     "metadata": {
      "needs_background": "light"
     },
     "output_type": "display_data"
    }
   ],
   "source": [
    "# Построим boxplot’ы для численных переменных\n",
    "fig, axes = plt.subplots(3, 2, figsize=(15,15))\n",
    "plt.subplots_adjust(wspace = 0.5)\n",
    "axes = axes.flatten()\n",
    "\n",
    "for i in range(len(num_cols)):\n",
    "    sns.boxplot(x=\"default\", y=num_cols[i], data=data[data.Train == 1], orient = 'v', ax=axes[i])\n"
   ]
  },
  {
   "cell_type": "markdown",
   "metadata": {
    "papermill": {
     "duration": 0.308504,
     "end_time": "2020-11-23T21:49:56.061675",
     "exception": false,
     "start_time": "2020-11-23T21:49:55.753171",
     "status": "completed"
    },
    "tags": []
   },
   "source": [
    "**Вывод**\n",
    "\n",
    "1. Средний возраст дефолтных клиентов ниже, чем у не дефолтных.\n",
    "2. Количество отказанных прошлых заявок выше для для дефолтных клиентов.\n",
    "3. Скоринговый балл по данным из БКИ выше для дефолтных.\n",
    "4. Количество запросов в БКИ для дефолтных значительно больше.\n",
    "5. Доход для дефолтных меньше. \n",
    "6. Дефолтные клиенты в среднем дальше от сегодняшнего дня."
   ]
  },
  {
   "cell_type": "code",
   "execution_count": 144,
   "metadata": {
    "execution": {
     "iopub.execute_input": "2020-11-23T21:49:56.683465Z",
     "iopub.status.busy": "2020-11-23T21:49:56.682126Z",
     "iopub.status.idle": "2020-11-23T21:49:56.703149Z",
     "shell.execute_reply": "2020-11-23T21:49:56.703857Z"
    },
    "papermill": {
     "duration": 0.336029,
     "end_time": "2020-11-23T21:49:56.704031",
     "exception": false,
     "start_time": "2020-11-23T21:49:56.368002",
     "status": "completed"
    },
    "tags": []
   },
   "outputs": [
    {
     "name": "stdout",
     "output_type": "stream",
     "text": [
      "<class 'pandas.core.frame.DataFrame'>\n",
      "Int64Index: 73799 entries, 0 to 73798\n",
      "Data columns (total 21 columns):\n",
      "client_id           73799 non-null int64\n",
      "education           73799 non-null int32\n",
      "sex                 73799 non-null int32\n",
      "age                 73799 non-null float64\n",
      "car                 73799 non-null int32\n",
      "car_type            73799 non-null int32\n",
      "decline_app_cnt     73799 non-null float64\n",
      "good_work           73799 non-null int64\n",
      "score_bki           73799 non-null float64\n",
      "bki_request_cnt     73799 non-null float64\n",
      "region_rating       73799 non-null int64\n",
      "home_address        73799 non-null int64\n",
      "work_address        73799 non-null int64\n",
      "income              73799 non-null float64\n",
      "sna                 73799 non-null int64\n",
      "first_time          73799 non-null int64\n",
      "foreign_passport    73799 non-null int32\n",
      "default             73799 non-null float64\n",
      "Train               73799 non-null int64\n",
      "delta_time          73799 non-null int64\n",
      "decline_yes         73799 non-null int64\n",
      "dtypes: float64(6), int32(5), int64(10)\n",
      "memory usage: 11.0 MB\n"
     ]
    }
   ],
   "source": [
    "data[data.Train == 1].info()"
   ]
  },
  {
   "cell_type": "markdown",
   "metadata": {
    "papermill": {
     "duration": 0.304853,
     "end_time": "2020-11-23T21:49:57.321842",
     "exception": false,
     "start_time": "2020-11-23T21:49:57.016989",
     "status": "completed"
    },
    "tags": []
   },
   "source": [
    "# Создадим новые метрики на основе get_dummies из категориальных критериев"
   ]
  },
  {
   "cell_type": "code",
   "execution_count": 145,
   "metadata": {
    "execution": {
     "iopub.execute_input": "2020-11-23T21:49:57.977901Z",
     "iopub.status.busy": "2020-11-23T21:49:57.976743Z",
     "iopub.status.idle": "2020-11-23T21:49:58.017943Z",
     "shell.execute_reply": "2020-11-23T21:49:58.017121Z"
    },
    "papermill": {
     "duration": 0.379135,
     "end_time": "2020-11-23T21:49:58.018077",
     "exception": false,
     "start_time": "2020-11-23T21:49:57.638942",
     "status": "completed"
    },
    "tags": []
   },
   "outputs": [
    {
     "data": {
      "text/html": [
       "<div>\n",
       "<style scoped>\n",
       "    .dataframe tbody tr th:only-of-type {\n",
       "        vertical-align: middle;\n",
       "    }\n",
       "\n",
       "    .dataframe tbody tr th {\n",
       "        vertical-align: top;\n",
       "    }\n",
       "\n",
       "    .dataframe thead th {\n",
       "        text-align: right;\n",
       "    }\n",
       "</style>\n",
       "<table border=\"1\" class=\"dataframe\">\n",
       "  <thead>\n",
       "    <tr style=\"text-align: right;\">\n",
       "      <th></th>\n",
       "      <th>education_0</th>\n",
       "      <th>education_1</th>\n",
       "      <th>education_2</th>\n",
       "      <th>education_3</th>\n",
       "      <th>education_4</th>\n",
       "      <th>home_address_1</th>\n",
       "      <th>home_address_2</th>\n",
       "      <th>home_address_3</th>\n",
       "      <th>work_address_1</th>\n",
       "      <th>work_address_2</th>\n",
       "      <th>...</th>\n",
       "      <th>region_rating_70</th>\n",
       "      <th>region_rating_80</th>\n",
       "      <th>sna_1</th>\n",
       "      <th>sna_2</th>\n",
       "      <th>sna_3</th>\n",
       "      <th>sna_4</th>\n",
       "      <th>first_time_1</th>\n",
       "      <th>first_time_2</th>\n",
       "      <th>first_time_3</th>\n",
       "      <th>first_time_4</th>\n",
       "    </tr>\n",
       "  </thead>\n",
       "  <tbody>\n",
       "    <tr>\n",
       "      <td>0</td>\n",
       "      <td>0</td>\n",
       "      <td>0</td>\n",
       "      <td>0</td>\n",
       "      <td>1</td>\n",
       "      <td>0</td>\n",
       "      <td>1</td>\n",
       "      <td>0</td>\n",
       "      <td>0</td>\n",
       "      <td>0</td>\n",
       "      <td>1</td>\n",
       "      <td>...</td>\n",
       "      <td>0</td>\n",
       "      <td>0</td>\n",
       "      <td>0</td>\n",
       "      <td>0</td>\n",
       "      <td>0</td>\n",
       "      <td>1</td>\n",
       "      <td>1</td>\n",
       "      <td>0</td>\n",
       "      <td>0</td>\n",
       "      <td>0</td>\n",
       "    </tr>\n",
       "    <tr>\n",
       "      <td>1</td>\n",
       "      <td>0</td>\n",
       "      <td>0</td>\n",
       "      <td>0</td>\n",
       "      <td>1</td>\n",
       "      <td>0</td>\n",
       "      <td>0</td>\n",
       "      <td>1</td>\n",
       "      <td>0</td>\n",
       "      <td>0</td>\n",
       "      <td>0</td>\n",
       "      <td>...</td>\n",
       "      <td>0</td>\n",
       "      <td>0</td>\n",
       "      <td>0</td>\n",
       "      <td>0</td>\n",
       "      <td>0</td>\n",
       "      <td>1</td>\n",
       "      <td>1</td>\n",
       "      <td>0</td>\n",
       "      <td>0</td>\n",
       "      <td>0</td>\n",
       "    </tr>\n",
       "    <tr>\n",
       "      <td>2</td>\n",
       "      <td>0</td>\n",
       "      <td>0</td>\n",
       "      <td>0</td>\n",
       "      <td>1</td>\n",
       "      <td>0</td>\n",
       "      <td>1</td>\n",
       "      <td>0</td>\n",
       "      <td>0</td>\n",
       "      <td>0</td>\n",
       "      <td>1</td>\n",
       "      <td>...</td>\n",
       "      <td>0</td>\n",
       "      <td>1</td>\n",
       "      <td>1</td>\n",
       "      <td>0</td>\n",
       "      <td>0</td>\n",
       "      <td>0</td>\n",
       "      <td>0</td>\n",
       "      <td>0</td>\n",
       "      <td>0</td>\n",
       "      <td>1</td>\n",
       "    </tr>\n",
       "    <tr>\n",
       "      <td>3</td>\n",
       "      <td>0</td>\n",
       "      <td>0</td>\n",
       "      <td>0</td>\n",
       "      <td>1</td>\n",
       "      <td>0</td>\n",
       "      <td>0</td>\n",
       "      <td>1</td>\n",
       "      <td>0</td>\n",
       "      <td>0</td>\n",
       "      <td>0</td>\n",
       "      <td>...</td>\n",
       "      <td>0</td>\n",
       "      <td>0</td>\n",
       "      <td>1</td>\n",
       "      <td>0</td>\n",
       "      <td>0</td>\n",
       "      <td>0</td>\n",
       "      <td>0</td>\n",
       "      <td>0</td>\n",
       "      <td>1</td>\n",
       "      <td>0</td>\n",
       "    </tr>\n",
       "    <tr>\n",
       "      <td>4</td>\n",
       "      <td>0</td>\n",
       "      <td>1</td>\n",
       "      <td>0</td>\n",
       "      <td>0</td>\n",
       "      <td>0</td>\n",
       "      <td>0</td>\n",
       "      <td>1</td>\n",
       "      <td>0</td>\n",
       "      <td>0</td>\n",
       "      <td>0</td>\n",
       "      <td>...</td>\n",
       "      <td>0</td>\n",
       "      <td>0</td>\n",
       "      <td>1</td>\n",
       "      <td>0</td>\n",
       "      <td>0</td>\n",
       "      <td>0</td>\n",
       "      <td>0</td>\n",
       "      <td>0</td>\n",
       "      <td>0</td>\n",
       "      <td>1</td>\n",
       "    </tr>\n",
       "  </tbody>\n",
       "</table>\n",
       "<p>5 rows × 26 columns</p>\n",
       "</div>"
      ],
      "text/plain": [
       "   education_0  education_1  education_2  education_3  education_4  \\\n",
       "0            0            0            0            1            0   \n",
       "1            0            0            0            1            0   \n",
       "2            0            0            0            1            0   \n",
       "3            0            0            0            1            0   \n",
       "4            0            1            0            0            0   \n",
       "\n",
       "   home_address_1  home_address_2  home_address_3  work_address_1  \\\n",
       "0               1               0               0               0   \n",
       "1               0               1               0               0   \n",
       "2               1               0               0               0   \n",
       "3               0               1               0               0   \n",
       "4               0               1               0               0   \n",
       "\n",
       "   work_address_2  ...  region_rating_70  region_rating_80  sna_1  sna_2  \\\n",
       "0               1  ...                 0                 0      0      0   \n",
       "1               0  ...                 0                 0      0      0   \n",
       "2               1  ...                 0                 1      1      0   \n",
       "3               0  ...                 0                 0      1      0   \n",
       "4               0  ...                 0                 0      1      0   \n",
       "\n",
       "   sna_3  sna_4  first_time_1  first_time_2  first_time_3  first_time_4  \n",
       "0      0      1             1             0             0             0  \n",
       "1      0      1             1             0             0             0  \n",
       "2      0      0             0             0             0             1  \n",
       "3      0      0             0             0             1             0  \n",
       "4      0      0             0             0             0             1  \n",
       "\n",
       "[5 rows x 26 columns]"
      ]
     },
     "execution_count": 145,
     "metadata": {},
     "output_type": "execute_result"
    }
   ],
   "source": [
    "# закодируем категориальные признаки при помощи get_dummy\n",
    "data_cat = pd.get_dummies(data.loc[:, cat_cols], columns = cat_cols)\n",
    "data_cat.head()"
   ]
  },
  {
   "cell_type": "markdown",
   "metadata": {
    "papermill": {
     "duration": 0.305241,
     "end_time": "2020-11-23T21:49:58.645914",
     "exception": false,
     "start_time": "2020-11-23T21:49:58.340673",
     "status": "completed"
    },
    "tags": []
   },
   "source": [
    "Удалим признак decline_yes"
   ]
  },
  {
   "cell_type": "code",
   "execution_count": 146,
   "metadata": {
    "execution": {
     "iopub.execute_input": "2020-11-23T21:49:59.270000Z",
     "iopub.status.busy": "2020-11-23T21:49:59.268979Z",
     "iopub.status.idle": "2020-11-23T21:49:59.272538Z",
     "shell.execute_reply": "2020-11-23T21:49:59.271922Z"
    },
    "papermill": {
     "duration": 0.320951,
     "end_time": "2020-11-23T21:49:59.272665",
     "exception": false,
     "start_time": "2020-11-23T21:49:58.951714",
     "status": "completed"
    },
    "tags": []
   },
   "outputs": [],
   "source": [
    "data = data.drop('decline_yes', axis = 1)"
   ]
  },
  {
   "cell_type": "markdown",
   "metadata": {
    "papermill": {
     "duration": 0.307272,
     "end_time": "2020-11-23T21:49:59.888969",
     "exception": false,
     "start_time": "2020-11-23T21:49:59.581697",
     "status": "completed"
    },
    "tags": []
   },
   "source": [
    "# Стандартизируем числовые данные"
   ]
  },
  {
   "cell_type": "code",
   "execution_count": 147,
   "metadata": {
    "execution": {
     "iopub.execute_input": "2020-11-23T21:50:00.516014Z",
     "iopub.status.busy": "2020-11-23T21:50:00.514231Z",
     "iopub.status.idle": "2020-11-23T21:50:00.532625Z",
     "shell.execute_reply": "2020-11-23T21:50:00.531916Z"
    },
    "papermill": {
     "duration": 0.335225,
     "end_time": "2020-11-23T21:50:00.532747",
     "exception": false,
     "start_time": "2020-11-23T21:50:00.197522",
     "status": "completed"
    },
    "tags": []
   },
   "outputs": [],
   "source": [
    "# стандартизиуем числовые признаки\n",
    "\n",
    "data_num = pd.DataFrame(StandardScaler().fit_transform(data[num_cols]), columns = num_cols)"
   ]
  },
  {
   "cell_type": "markdown",
   "metadata": {
    "papermill": {
     "duration": 0.306762,
     "end_time": "2020-11-23T21:50:01.144873",
     "exception": false,
     "start_time": "2020-11-23T21:50:00.838111",
     "status": "completed"
    },
    "tags": []
   },
   "source": [
    "# Объединим все признаки и разделим DF на обучающую и тестовую  "
   ]
  },
  {
   "cell_type": "code",
   "execution_count": 148,
   "metadata": {
    "execution": {
     "iopub.execute_input": "2020-11-23T21:50:01.767784Z",
     "iopub.status.busy": "2020-11-23T21:50:01.766969Z",
     "iopub.status.idle": "2020-11-23T21:50:01.780563Z",
     "shell.execute_reply": "2020-11-23T21:50:01.779577Z"
    },
    "papermill": {
     "duration": 0.330828,
     "end_time": "2020-11-23T21:50:01.780784",
     "exception": false,
     "start_time": "2020-11-23T21:50:01.449956",
     "status": "completed"
    },
    "tags": []
   },
   "outputs": [],
   "source": [
    "# объединим все в один DF\n",
    "data_end = pd.concat([data_num, data_cat, data[bin_cols], data['Train'], data['default']], axis = 1)"
   ]
  },
  {
   "cell_type": "code",
   "execution_count": 149,
   "metadata": {
    "execution": {
     "iopub.execute_input": "2020-11-23T21:50:02.495105Z",
     "iopub.status.busy": "2020-11-23T21:50:02.494317Z",
     "iopub.status.idle": "2020-11-23T21:50:02.502671Z",
     "shell.execute_reply": "2020-11-23T21:50:02.501868Z"
    },
    "papermill": {
     "duration": 0.322802,
     "end_time": "2020-11-23T21:50:02.502806",
     "exception": false,
     "start_time": "2020-11-23T21:50:02.180004",
     "status": "completed"
    },
    "tags": []
   },
   "outputs": [
    {
     "data": {
      "text/plain": [
       "1    73799\n",
       "0    36349\n",
       "Name: Train, dtype: int64"
      ]
     },
     "execution_count": 149,
     "metadata": {},
     "output_type": "execute_result"
    }
   ],
   "source": [
    "data_end.Train.value_counts()"
   ]
  },
  {
   "cell_type": "code",
   "execution_count": 150,
   "metadata": {
    "execution": {
     "iopub.execute_input": "2020-11-23T21:50:03.133929Z",
     "iopub.status.busy": "2020-11-23T21:50:03.133050Z",
     "iopub.status.idle": "2020-11-23T21:50:03.153832Z",
     "shell.execute_reply": "2020-11-23T21:50:03.153063Z"
    },
    "papermill": {
     "duration": 0.340773,
     "end_time": "2020-11-23T21:50:03.153954",
     "exception": false,
     "start_time": "2020-11-23T21:50:02.813181",
     "status": "completed"
    },
    "tags": []
   },
   "outputs": [],
   "source": [
    "data_standart_train = data_end[data_end.Train == 1]\n",
    "data_standart_test = data_end[data_end.Train == 0]\n"
   ]
  },
  {
   "cell_type": "code",
   "execution_count": 151,
   "metadata": {
    "execution": {
     "iopub.execute_input": "2020-11-23T21:50:03.779111Z",
     "iopub.status.busy": "2020-11-23T21:50:03.778377Z",
     "iopub.status.idle": "2020-11-23T21:50:03.788001Z",
     "shell.execute_reply": "2020-11-23T21:50:03.787217Z"
    },
    "papermill": {
     "duration": 0.324882,
     "end_time": "2020-11-23T21:50:03.788124",
     "exception": false,
     "start_time": "2020-11-23T21:50:03.463242",
     "status": "completed"
    },
    "tags": []
   },
   "outputs": [],
   "source": [
    "data_standart_train = data_standart_train.drop('Train', axis = 1)\n",
    "data_standart_test = data_standart_test.drop('Train', axis = 1)"
   ]
  },
  {
   "cell_type": "code",
   "execution_count": 152,
   "metadata": {
    "execution": {
     "iopub.execute_input": "2020-11-23T21:50:04.419094Z",
     "iopub.status.busy": "2020-11-23T21:50:04.418166Z",
     "iopub.status.idle": "2020-11-23T21:50:04.421958Z",
     "shell.execute_reply": "2020-11-23T21:50:04.422560Z"
    },
    "papermill": {
     "duration": 0.322907,
     "end_time": "2020-11-23T21:50:04.422711",
     "exception": false,
     "start_time": "2020-11-23T21:50:04.099804",
     "status": "completed"
    },
    "tags": []
   },
   "outputs": [
    {
     "data": {
      "text/plain": [
       "(36349, 38)"
      ]
     },
     "execution_count": 152,
     "metadata": {},
     "output_type": "execute_result"
    }
   ],
   "source": [
    "data_standart_test.shape"
   ]
  },
  {
   "cell_type": "markdown",
   "metadata": {
    "papermill": {
     "duration": 0.313355,
     "end_time": "2020-11-23T21:50:05.045411",
     "exception": false,
     "start_time": "2020-11-23T21:50:04.732056",
     "status": "completed"
    },
    "tags": []
   },
   "source": [
    "# 4.Работа по обучению модели по прогнозированию default и улучшению параметров модели. В качестве ML будем использовать модель логистической регрессии"
   ]
  },
  {
   "cell_type": "code",
   "execution_count": 153,
   "metadata": {
    "execution": {
     "iopub.execute_input": "2020-11-23T21:50:05.675983Z",
     "iopub.status.busy": "2020-11-23T21:50:05.675229Z",
     "iopub.status.idle": "2020-11-23T21:50:05.705190Z",
     "shell.execute_reply": "2020-11-23T21:50:05.704587Z"
    },
    "papermill": {
     "duration": 0.347605,
     "end_time": "2020-11-23T21:50:05.705318",
     "exception": false,
     "start_time": "2020-11-23T21:50:05.357713",
     "status": "completed"
    },
    "tags": []
   },
   "outputs": [
    {
     "name": "stdout",
     "output_type": "stream",
     "text": [
      "<class 'pandas.core.frame.DataFrame'>\n",
      "RangeIndex: 110148 entries, 0 to 110147\n",
      "Data columns (total 39 columns):\n",
      "age                 110148 non-null float64\n",
      "decline_app_cnt     110148 non-null float64\n",
      "score_bki           110148 non-null float64\n",
      "bki_request_cnt     110148 non-null float64\n",
      "income              110148 non-null float64\n",
      "delta_time          110148 non-null float64\n",
      "education_0         110148 non-null uint8\n",
      "education_1         110148 non-null uint8\n",
      "education_2         110148 non-null uint8\n",
      "education_3         110148 non-null uint8\n",
      "education_4         110148 non-null uint8\n",
      "home_address_1      110148 non-null uint8\n",
      "home_address_2      110148 non-null uint8\n",
      "home_address_3      110148 non-null uint8\n",
      "work_address_1      110148 non-null uint8\n",
      "work_address_2      110148 non-null uint8\n",
      "work_address_3      110148 non-null uint8\n",
      "region_rating_20    110148 non-null uint8\n",
      "region_rating_30    110148 non-null uint8\n",
      "region_rating_40    110148 non-null uint8\n",
      "region_rating_50    110148 non-null uint8\n",
      "region_rating_60    110148 non-null uint8\n",
      "region_rating_70    110148 non-null uint8\n",
      "region_rating_80    110148 non-null uint8\n",
      "sna_1               110148 non-null uint8\n",
      "sna_2               110148 non-null uint8\n",
      "sna_3               110148 non-null uint8\n",
      "sna_4               110148 non-null uint8\n",
      "first_time_1        110148 non-null uint8\n",
      "first_time_2        110148 non-null uint8\n",
      "first_time_3        110148 non-null uint8\n",
      "first_time_4        110148 non-null uint8\n",
      "sex                 110148 non-null int32\n",
      "car                 110148 non-null int32\n",
      "car_type            110148 non-null int32\n",
      "foreign_passport    110148 non-null int32\n",
      "good_work           110148 non-null int64\n",
      "Train               110148 non-null int64\n",
      "default             73799 non-null float64\n",
      "dtypes: float64(7), int32(4), int64(2), uint8(26)\n",
      "memory usage: 12.0 MB\n"
     ]
    }
   ],
   "source": [
    "data_end.info()"
   ]
  },
  {
   "cell_type": "code",
   "execution_count": 154,
   "metadata": {
    "execution": {
     "iopub.execute_input": "2020-11-23T21:50:06.340929Z",
     "iopub.status.busy": "2020-11-23T21:50:06.340062Z",
     "iopub.status.idle": "2020-11-23T21:50:06.346528Z",
     "shell.execute_reply": "2020-11-23T21:50:06.345839Z"
    },
    "papermill": {
     "duration": 0.328049,
     "end_time": "2020-11-23T21:50:06.346652",
     "exception": false,
     "start_time": "2020-11-23T21:50:06.018603",
     "status": "completed"
    },
    "tags": []
   },
   "outputs": [],
   "source": [
    "X = data_standart_train.drop('default', axis = 1)\n",
    "y = data_standart_train['default']"
   ]
  },
  {
   "cell_type": "code",
   "execution_count": 155,
   "metadata": {
    "execution": {
     "iopub.execute_input": "2020-11-23T21:50:06.987167Z",
     "iopub.status.busy": "2020-11-23T21:50:06.985984Z",
     "iopub.status.idle": "2020-11-23T21:50:07.004555Z",
     "shell.execute_reply": "2020-11-23T21:50:07.003508Z"
    },
    "papermill": {
     "duration": 0.345324,
     "end_time": "2020-11-23T21:50:07.004788",
     "exception": false,
     "start_time": "2020-11-23T21:50:06.659464",
     "status": "completed"
    },
    "tags": []
   },
   "outputs": [
    {
     "name": "stdout",
     "output_type": "stream",
     "text": [
      "(73799, 37) (59039, 37) (14760, 37)\n"
     ]
    }
   ],
   "source": [
    "# Выделим из тренировочного датасета 20% на валидацию\n",
    "X_train, X_test, y_train, y_test = train_test_split(X, y, test_size=0.2, random_state=RANDOM_SEED)\n",
    "\n",
    "# Проверка\n",
    "print(X.shape, X_train.shape, X_test.shape)"
   ]
  },
  {
   "cell_type": "code",
   "execution_count": 156,
   "metadata": {
    "execution": {
     "iopub.execute_input": "2020-11-23T21:50:07.723048Z",
     "iopub.status.busy": "2020-11-23T21:50:07.722292Z",
     "iopub.status.idle": "2020-11-23T21:50:08.502799Z",
     "shell.execute_reply": "2020-11-23T21:50:08.501982Z"
    },
    "papermill": {
     "duration": 1.102516,
     "end_time": "2020-11-23T21:50:08.502941",
     "exception": false,
     "start_time": "2020-11-23T21:50:07.400425",
     "status": "completed"
    },
    "tags": []
   },
   "outputs": [
    {
     "data": {
      "text/plain": [
       "LogisticRegression(random_state=42)"
      ]
     },
     "execution_count": 156,
     "metadata": {},
     "output_type": "execute_result"
    }
   ],
   "source": [
    "#Обучим модель\n",
    "warnings.simplefilter('ignore')\n",
    "\n",
    "model = LogisticRegression(random_state=RANDOM_SEED)\n",
    "model.fit(X_train, y_train)"
   ]
  },
  {
   "cell_type": "markdown",
   "metadata": {
    "papermill": {
     "duration": 0.314928,
     "end_time": "2020-11-23T21:50:09.181557",
     "exception": false,
     "start_time": "2020-11-23T21:50:08.866629",
     "status": "completed"
    },
    "tags": []
   },
   "source": [
    "Оценим метрики на полученной модели"
   ]
  },
  {
   "cell_type": "code",
   "execution_count": 157,
   "metadata": {
    "execution": {
     "iopub.execute_input": "2020-11-23T21:50:09.820993Z",
     "iopub.status.busy": "2020-11-23T21:50:09.820222Z",
     "iopub.status.idle": "2020-11-23T21:50:09.829267Z",
     "shell.execute_reply": "2020-11-23T21:50:09.829852Z"
    },
    "papermill": {
     "duration": 0.334125,
     "end_time": "2020-11-23T21:50:09.830022",
     "exception": false,
     "start_time": "2020-11-23T21:50:09.495897",
     "status": "completed"
    },
    "tags": []
   },
   "outputs": [],
   "source": [
    "model_1 = MatrixModel(model, X_test, y_test)"
   ]
  },
  {
   "cell_type": "code",
   "execution_count": 158,
   "metadata": {
    "execution": {
     "iopub.execute_input": "2020-11-23T21:50:10.465956Z",
     "iopub.status.busy": "2020-11-23T21:50:10.465079Z",
     "iopub.status.idle": "2020-11-23T21:50:10.499530Z",
     "shell.execute_reply": "2020-11-23T21:50:10.500058Z"
    },
    "papermill": {
     "duration": 0.354004,
     "end_time": "2020-11-23T21:50:10.500214",
     "exception": false,
     "start_time": "2020-11-23T21:50:10.146210",
     "status": "completed"
    },
    "tags": []
   },
   "outputs": [
    {
     "data": {
      "text/plain": [
       "accuracy     0.874729\n",
       "precision    0.394231\n",
       "recall       0.022441\n",
       "F1           0.042465\n",
       "ROC_AUC      0.744768\n",
       "dtype: float64"
      ]
     },
     "execution_count": 158,
     "metadata": {},
     "output_type": "execute_result"
    }
   ],
   "source": [
    "model_1.get_metrics()"
   ]
  },
  {
   "cell_type": "code",
   "execution_count": 159,
   "metadata": {
    "execution": {
     "iopub.execute_input": "2020-11-23T21:50:11.134076Z",
     "iopub.status.busy": "2020-11-23T21:50:11.132960Z",
     "iopub.status.idle": "2020-11-23T21:50:11.323399Z",
     "shell.execute_reply": "2020-11-23T21:50:11.322787Z"
    },
    "papermill": {
     "duration": 0.51067,
     "end_time": "2020-11-23T21:50:11.323527",
     "exception": false,
     "start_time": "2020-11-23T21:50:10.812857",
     "status": "completed"
    },
    "tags": []
   },
   "outputs": [
    {
     "data": {
      "image/png": "[encoded data removed]",
      "text/plain": [
       "<Figure size 432x288 with 1 Axes>"
      ]
     },
     "metadata": {
      "needs_background": "light"
     },
     "output_type": "display_data"
    }
   ],
   "source": [
    "model_1.roc_curve_plot()"
   ]
  },
  {
   "cell_type": "code",
   "execution_count": 160,
   "metadata": {
    "execution": {
     "iopub.execute_input": "2020-11-23T21:50:11.958222Z",
     "iopub.status.busy": "2020-11-23T21:50:11.957064Z",
     "iopub.status.idle": "2020-11-23T21:50:12.209002Z",
     "shell.execute_reply": "2020-11-23T21:50:12.208412Z"
    },
    "papermill": {
     "duration": 0.571885,
     "end_time": "2020-11-23T21:50:12.209125",
     "exception": false,
     "start_time": "2020-11-23T21:50:11.637240",
     "status": "completed"
    },
    "tags": []
   },
   "outputs": [
    {
     "data": {
      "image/png": "[encoded data removed]",
      "text/plain": [
       "<Figure size 432x288 with 1 Axes>"
      ]
     },
     "metadata": {
      "needs_background": "light"
     },
     "output_type": "display_data"
    }
   ],
   "source": [
    "model_1.confusion_matrix_plot()"
   ]
  },
  {
   "cell_type": "markdown",
   "metadata": {
    "papermill": {
     "duration": 0.320747,
     "end_time": "2020-11-23T21:50:12.899022",
     "exception": false,
     "start_time": "2020-11-23T21:50:12.578275",
     "status": "completed"
    },
    "tags": []
   },
   "source": [
    "**Вывод**\n",
    "\n",
    "Наблюдается явная несбалансированность показателей качества модели при этои стоит отметить что ROC_AUC и accurcy имеют достаточно хорошее значение, при этом precision, recall и F1 имеют низкое значение, говорит о появлении ошибки второго рода (ложно отритйательный, деволт классифицирован как не дефолт). Вследствии с вышесказанным банк может понести дополнительные убытки за счет выдачи кредитов неправильным заемщикам. Для разрешения данной проблемы необходимо сбалансировать модель, применить регуляризацию и попытаться подобрать гиперпараметры модели."
   ]
  },
  {
   "cell_type": "markdown",
   "metadata": {
    "papermill": {
     "duration": 0.312867,
     "end_time": "2020-11-23T21:50:13.527193",
     "exception": false,
     "start_time": "2020-11-23T21:50:13.214326",
     "status": "completed"
    },
    "tags": []
   },
   "source": [
    "# Сбалансированность данных "
   ]
  },
  {
   "cell_type": "code",
   "execution_count": 161,
   "metadata": {
    "execution": {
     "iopub.execute_input": "2020-11-23T21:50:14.164692Z",
     "iopub.status.busy": "2020-11-23T21:50:14.163599Z",
     "iopub.status.idle": "2020-11-23T21:50:14.293692Z",
     "shell.execute_reply": "2020-11-23T21:50:14.293061Z"
    },
    "papermill": {
     "duration": 0.453591,
     "end_time": "2020-11-23T21:50:14.293820",
     "exception": false,
     "start_time": "2020-11-23T21:50:13.840229",
     "status": "completed"
    },
    "tags": []
   },
   "outputs": [
    {
     "data": {
      "text/plain": [
       "<matplotlib.axes._subplots.AxesSubplot at 0x1e852e6f388>"
      ]
     },
     "execution_count": 161,
     "metadata": {},
     "output_type": "execute_result"
    },
    {
     "data": {
      "image/png": "[encoded data removed]",
      "text/plain": [
       "<Figure size 432x288 with 1 Axes>"
      ]
     },
     "metadata": {
      "needs_background": "light"
     },
     "output_type": "display_data"
    }
   ],
   "source": [
    "sns.countplot(x='default', data=data_standart_train)"
   ]
  },
  {
   "cell_type": "code",
   "execution_count": 162,
   "metadata": {
    "execution": {
     "iopub.execute_input": "2020-11-23T21:50:14.942145Z",
     "iopub.status.busy": "2020-11-23T21:50:14.941299Z",
     "iopub.status.idle": "2020-11-23T21:50:14.966325Z",
     "shell.execute_reply": "2020-11-23T21:50:14.965653Z"
    },
    "papermill": {
     "duration": 0.352301,
     "end_time": "2020-11-23T21:50:14.966488",
     "exception": false,
     "start_time": "2020-11-23T21:50:14.614187",
     "status": "completed"
    },
    "tags": []
   },
   "outputs": [
    {
     "name": "stdout",
     "output_type": "stream",
     "text": [
      "класс 0:  64427\n",
      "класс 1:  9372\n",
      "веса классов: отношение дефолтных клиентов к недефолтным = 6.874413145539906\n"
     ]
    }
   ],
   "source": [
    "print('класс 0: ', len(data_standart_train[data_standart_train.default == 0]))\n",
    "print('класс 1: ', len(data_standart_train[data_standart_train.default == 1]))\n",
    "print('веса классов: отношение дефолтных клиентов к недефолтным = {0}'.format(len(data_standart_train[data_standart_train.default == 0]) / len(data_standart_train[data_standart_train.default == 1])))"
   ]
  },
  {
   "cell_type": "markdown",
   "metadata": {
    "papermill": {
     "duration": 0.316054,
     "end_time": "2020-11-23T21:50:15.599855",
     "exception": false,
     "start_time": "2020-11-23T21:50:15.283801",
     "status": "completed"
    },
    "tags": []
   },
   "source": [
    "Как видно недефолтных клиентов в 6.87 раза больше, чем дефолтных.\n",
    "Для сглаживания модели применим параметр модели class_weight = 'balanced'"
   ]
  },
  {
   "cell_type": "code",
   "execution_count": 163,
   "metadata": {
    "execution": {
     "iopub.execute_input": "2020-11-23T21:50:16.244945Z",
     "iopub.status.busy": "2020-11-23T21:50:16.244145Z",
     "iopub.status.idle": "2020-11-23T21:50:17.033071Z",
     "shell.execute_reply": "2020-11-23T21:50:17.032035Z"
    },
    "papermill": {
     "duration": 1.116667,
     "end_time": "2020-11-23T21:50:17.033212",
     "exception": false,
     "start_time": "2020-11-23T21:50:15.916545",
     "status": "completed"
    },
    "tags": []
   },
   "outputs": [
    {
     "data": {
      "text/plain": [
       "LogisticRegression(class_weight='balanced', random_state=42)"
      ]
     },
     "execution_count": 163,
     "metadata": {},
     "output_type": "execute_result"
    }
   ],
   "source": [
    "model = LogisticRegression(class_weight='balanced', random_state = RANDOM_SEED)\n",
    "model.fit(X_train, y_train)"
   ]
  },
  {
   "cell_type": "code",
   "execution_count": 164,
   "metadata": {
    "execution": {
     "iopub.execute_input": "2020-11-23T21:50:17.679758Z",
     "iopub.status.busy": "2020-11-23T21:50:17.678798Z",
     "iopub.status.idle": "2020-11-23T21:50:17.689648Z",
     "shell.execute_reply": "2020-11-23T21:50:17.690227Z"
    },
    "papermill": {
     "duration": 0.336784,
     "end_time": "2020-11-23T21:50:17.690428",
     "exception": false,
     "start_time": "2020-11-23T21:50:17.353644",
     "status": "completed"
    },
    "tags": []
   },
   "outputs": [],
   "source": [
    "model_2 = MatrixModel(model, X_test, y_test)"
   ]
  },
  {
   "cell_type": "code",
   "execution_count": 165,
   "metadata": {
    "execution": {
     "iopub.execute_input": "2020-11-23T21:50:18.334760Z",
     "iopub.status.busy": "2020-11-23T21:50:18.334002Z",
     "iopub.status.idle": "2020-11-23T21:50:18.370972Z",
     "shell.execute_reply": "2020-11-23T21:50:18.370386Z"
    },
    "papermill": {
     "duration": 0.359708,
     "end_time": "2020-11-23T21:50:18.371099",
     "exception": false,
     "start_time": "2020-11-23T21:50:18.011391",
     "status": "completed"
    },
    "tags": []
   },
   "outputs": [
    {
     "data": {
      "text/plain": [
       "accuracy     0.671070\n",
       "precision    0.226715\n",
       "recall       0.687466\n",
       "F1           0.340980\n",
       "ROC_AUC      0.744221\n",
       "dtype: float64"
      ]
     },
     "execution_count": 165,
     "metadata": {},
     "output_type": "execute_result"
    }
   ],
   "source": [
    "model_2.get_metrics()"
   ]
  },
  {
   "cell_type": "code",
   "execution_count": 166,
   "metadata": {
    "execution": {
     "iopub.execute_input": "2020-11-23T21:50:19.010274Z",
     "iopub.status.busy": "2020-11-23T21:50:19.009190Z",
     "iopub.status.idle": "2020-11-23T21:50:19.204641Z",
     "shell.execute_reply": "2020-11-23T21:50:19.203949Z"
    },
    "papermill": {
     "duration": 0.517289,
     "end_time": "2020-11-23T21:50:19.204769",
     "exception": false,
     "start_time": "2020-11-23T21:50:18.687480",
     "status": "completed"
    },
    "tags": []
   },
   "outputs": [
    {
     "data": {
      "image/png": "[encoded data removed]",
      "text/plain": [
       "<Figure size 432x288 with 1 Axes>"
      ]
     },
     "metadata": {
      "needs_background": "light"
     },
     "output_type": "display_data"
    }
   ],
   "source": [
    "model_2.roc_curve_plot()"
   ]
  },
  {
   "cell_type": "code",
   "execution_count": 167,
   "metadata": {
    "execution": {
     "iopub.execute_input": "2020-11-23T21:50:19.885698Z",
     "iopub.status.busy": "2020-11-23T21:50:19.884604Z",
     "iopub.status.idle": "2020-11-23T21:50:19.996022Z",
     "shell.execute_reply": "2020-11-23T21:50:19.995416Z"
    },
    "papermill": {
     "duration": 0.467459,
     "end_time": "2020-11-23T21:50:19.996179",
     "exception": false,
     "start_time": "2020-11-23T21:50:19.528720",
     "status": "completed"
    },
    "tags": []
   },
   "outputs": [
    {
     "data": {
      "image/png": "[encoded data removed]",
      "text/plain": [
       "<Figure size 432x288 with 1 Axes>"
      ]
     },
     "metadata": {
      "needs_background": "light"
     },
     "output_type": "display_data"
    }
   ],
   "source": [
    "model_2.confusion_matrix_plot()"
   ]
  },
  {
   "cell_type": "markdown",
   "metadata": {
    "papermill": {
     "duration": 0.319676,
     "end_time": "2020-11-23T21:50:20.637852",
     "exception": false,
     "start_time": "2020-11-23T21:50:20.318176",
     "status": "completed"
    },
    "tags": []
   },
   "source": [
    "В целом применение балансировки позволило, сократить ошибку второго рода, но увеличило ошибку первого рода (не дефолтных классифицировали как дефолтных). Это приводит к увеличению экономических издержек и недополучению банком прибыли. "
   ]
  },
  {
   "cell_type": "markdown",
   "metadata": {
    "papermill": {
     "duration": 0.34317,
     "end_time": "2020-11-23T21:50:21.312163",
     "exception": false,
     "start_time": "2020-11-23T21:50:20.968993",
     "status": "completed"
    },
    "tags": []
   },
   "source": [
    "# Подберем параметры модели"
   ]
  },
  {
   "cell_type": "code",
   "execution_count": 168,
   "metadata": {
    "execution": {
     "iopub.execute_input": "2020-11-23T21:50:21.987647Z",
     "iopub.status.busy": "2020-11-23T21:50:21.986538Z",
     "iopub.status.idle": "2020-11-23T21:50:21.989595Z",
     "shell.execute_reply": "2020-11-23T21:50:21.990323Z"
    },
    "papermill": {
     "duration": 0.348102,
     "end_time": "2020-11-23T21:50:21.990516",
     "exception": false,
     "start_time": "2020-11-23T21:50:21.642414",
     "status": "completed"
    },
    "tags": []
   },
   "outputs": [],
   "source": [
    "# параметры подбирались согласно документации\n",
    "# https://scikit-learn.org/stable/modules/generated/sklearn.linear_model.LogisticRegression.html\n",
    "\n",
    "C = np.logspace(-1, 4, 10)\n",
    "iter_ = 1000\n",
    "epsilon_stop = 1e-4\n",
    " \n",
    "hyperparameters = [\n",
    "    {'penalty': ['l1'], \n",
    "     'C': C,\n",
    "     'solver': ['liblinear', 'saga'], \n",
    "     'multi_class': ['auto','ovr'], \n",
    "     'max_iter':[iter_],\n",
    "     'tol':[epsilon_stop]},\n",
    "    {'penalty': ['l2'], \n",
    "     'C': C,\n",
    "     'solver': ['newton-cg', 'lbfgs', 'sag'], \n",
    "     'multi_class': ['auto','ovr'], \n",
    "     'max_iter':[iter_],\n",
    "     'tol':[epsilon_stop]},\n",
    "    {'penalty': ['none'], \n",
    "     'C': C,\n",
    "     'solver': ['newton-cg', 'lbfgs', 'sag', 'saga'], \n",
    "     'multi_class': ['auto','ovr'], \n",
    "     'max_iter':[iter_],\n",
    "     'tol':[epsilon_stop]},\n",
    "    {'penalty': ['elasticnet'], \n",
    "     'C': C,\n",
    "     'solver': ['saga'], \n",
    "     'multi_class': ['auto','ovr'], \n",
    "     'max_iter':[iter_],\n",
    "     'tol':[epsilon_stop]},\n",
    "]\n",
    "# Создаем сетку поиска с использованием 5-кратной перекрестной проверки"
   ]
  },
  {
   "cell_type": "code",
   "execution_count": 169,
   "metadata": {
    "execution": {
     "iopub.execute_input": "2020-11-23T21:50:22.640748Z",
     "iopub.status.busy": "2020-11-23T21:50:22.639731Z",
     "iopub.status.idle": "2020-11-23T21:50:22.642872Z",
     "shell.execute_reply": "2020-11-23T21:50:22.642137Z"
    },
    "papermill": {
     "duration": 0.330917,
     "end_time": "2020-11-23T21:50:22.642991",
     "exception": false,
     "start_time": "2020-11-23T21:50:22.312074",
     "status": "completed"
    },
    "tags": []
   },
   "outputs": [],
   "source": [
    "model = LogisticRegression(class_weight = 'balanced', random_state = RANDOM_SEED)"
   ]
  },
  {
   "cell_type": "code",
   "execution_count": 170,
   "metadata": {
    "execution": {
     "iopub.execute_input": "2020-11-23T21:50:23.366093Z",
     "iopub.status.busy": "2020-11-23T21:50:23.365001Z",
     "iopub.status.idle": "2020-11-23T22:03:05.920146Z",
     "shell.execute_reply": "2020-11-23T22:03:05.920753Z"
    },
    "papermill": {
     "duration": 762.954708,
     "end_time": "2020-11-23T22:03:05.920992",
     "exception": false,
     "start_time": "2020-11-23T21:50:22.966284",
     "status": "completed"
    },
    "tags": []
   },
   "outputs": [],
   "source": [
    "# Обучаем модель\n",
    "gridsearch = GridSearchCV(model, hyperparameters, scoring='f1', n_jobs=-1, cv=5)\n",
    "gridsearch.fit(X_train, y_train)\n",
    "model_best_params = gridsearch.best_estimator_"
   ]
  },
  {
   "cell_type": "code",
   "execution_count": 171,
   "metadata": {
    "execution": {
     "iopub.execute_input": "2020-11-23T22:03:06.578505Z",
     "iopub.status.busy": "2020-11-23T22:03:06.577570Z",
     "iopub.status.idle": "2020-11-23T22:03:06.583659Z",
     "shell.execute_reply": "2020-11-23T22:03:06.582602Z"
    },
    "papermill": {
     "duration": 0.334342,
     "end_time": "2020-11-23T22:03:06.583835",
     "exception": false,
     "start_time": "2020-11-23T22:03:06.249493",
     "status": "completed"
    },
    "tags": []
   },
   "outputs": [
    {
     "name": "stdout",
     "output_type": "stream",
     "text": [
      "Лучшие значения параметров:\n",
      "  C = 0.35938136638046275,\n",
      "  class_weight = balanced,\n",
      "  dual = False,\n",
      "  fit_intercept = True,\n",
      "  intercept_scaling = 1,\n",
      "  l1_ratio = None,\n",
      "  max_iter = 1000,\n",
      "  multi_class = auto,\n",
      "  n_jobs = None,\n",
      "  penalty = l1,\n",
      "  random_state = 42,\n",
      "  solver = liblinear,\n",
      "  tol = 0.0001,\n",
      "  verbose = 0,\n",
      "  warm_start = False,\n"
     ]
    }
   ],
   "source": [
    "best_params = model_best_params.get_params()\n",
    "print(f'Лучшие значения параметров:') \n",
    "for param_name in best_params.keys():\n",
    "        print(f'  {param_name} = {best_params[param_name]},')"
   ]
  },
  {
   "cell_type": "code",
   "execution_count": 172,
   "metadata": {
    "execution": {
     "iopub.execute_input": "2020-11-23T22:03:07.240765Z",
     "iopub.status.busy": "2020-11-23T22:03:07.239850Z",
     "iopub.status.idle": "2020-11-23T22:03:07.249825Z",
     "shell.execute_reply": "2020-11-23T22:03:07.249105Z"
    },
    "papermill": {
     "duration": 0.344036,
     "end_time": "2020-11-23T22:03:07.249974",
     "exception": false,
     "start_time": "2020-11-23T22:03:06.905938",
     "status": "completed"
    },
    "tags": []
   },
   "outputs": [],
   "source": [
    "model_3 = MatrixModel(model_best_params, X_test, y_test)"
   ]
  },
  {
   "cell_type": "code",
   "execution_count": 173,
   "metadata": {
    "execution": {
     "iopub.execute_input": "2020-11-23T22:03:07.903453Z",
     "iopub.status.busy": "2020-11-23T22:03:07.902375Z",
     "iopub.status.idle": "2020-11-23T22:03:07.940482Z",
     "shell.execute_reply": "2020-11-23T22:03:07.939711Z"
    },
    "papermill": {
     "duration": 0.365932,
     "end_time": "2020-11-23T22:03:07.940608",
     "exception": false,
     "start_time": "2020-11-23T22:03:07.574676",
     "status": "completed"
    },
    "tags": []
   },
   "outputs": [
    {
     "data": {
      "text/plain": [
       "accuracy     0.671070\n",
       "precision    0.226813\n",
       "recall       0.688013\n",
       "F1           0.341159\n",
       "ROC_AUC      0.744288\n",
       "dtype: float64"
      ]
     },
     "execution_count": 173,
     "metadata": {},
     "output_type": "execute_result"
    }
   ],
   "source": [
    "model_3.get_metrics()"
   ]
  },
  {
   "cell_type": "markdown",
   "metadata": {
    "papermill": {
     "duration": 0.326016,
     "end_time": "2020-11-23T22:03:08.588921",
     "exception": false,
     "start_time": "2020-11-23T22:03:08.262905",
     "status": "completed"
    },
    "tags": []
   },
   "source": [
    "# Так как осуществлялся подбор большого числа гиперпараметров, то проверем модель на переобучение "
   ]
  },
  {
   "cell_type": "code",
   "execution_count": 174,
   "metadata": {
    "execution": {
     "iopub.execute_input": "2020-11-23T22:03:09.242967Z",
     "iopub.status.busy": "2020-11-23T22:03:09.242150Z",
     "iopub.status.idle": "2020-11-23T22:03:09.244673Z",
     "shell.execute_reply": "2020-11-23T22:03:09.243970Z"
    },
    "papermill": {
     "duration": 0.333787,
     "end_time": "2020-11-23T22:03:09.244790",
     "exception": false,
     "start_time": "2020-11-23T22:03:08.911003",
     "status": "completed"
    },
    "tags": []
   },
   "outputs": [],
   "source": [
    "from sklearn.model_selection import cross_validate"
   ]
  },
  {
   "cell_type": "code",
   "execution_count": 175,
   "metadata": {
    "execution": {
     "iopub.execute_input": "2020-11-23T22:03:09.934922Z",
     "iopub.status.busy": "2020-11-23T22:03:09.933904Z",
     "iopub.status.idle": "2020-11-23T22:03:55.776545Z",
     "shell.execute_reply": "2020-11-23T22:03:55.775780Z"
    },
    "papermill": {
     "duration": 46.211658,
     "end_time": "2020-11-23T22:03:55.776688",
     "exception": false,
     "start_time": "2020-11-23T22:03:09.565030",
     "status": "completed"
    },
    "tags": []
   },
   "outputs": [],
   "source": [
    "clf = LogisticRegression(\n",
    "    C = 0.35938136638046275,\n",
    "    class_weight = 'balanced',\n",
    "    dual = False,\n",
    "    fit_intercept = True,\n",
    "    intercept_scaling = 1,\n",
    "    l1_ratio = None,\n",
    "    max_iter = 1000,\n",
    "    multi_class = 'auto',\n",
    "    n_jobs = None,\n",
    "    penalty = 'l1',\n",
    "    random_state = 42,\n",
    "    solver = 'liblinear',\n",
    "    tol = 0.0001,\n",
    "    verbose = 0,\n",
    "    warm_start = False\n",
    ")\n",
    "    \n",
    "cv_metrics = cross_validate(clf, X, y, cv=10, scoring='f1_micro', return_train_score=True)"
   ]
  },
  {
   "cell_type": "code",
   "execution_count": 176,
   "metadata": {
    "execution": {
     "iopub.execute_input": "2020-11-23T22:03:56.437140Z",
     "iopub.status.busy": "2020-11-23T22:03:56.434204Z",
     "iopub.status.idle": "2020-11-23T22:03:56.633728Z",
     "shell.execute_reply": "2020-11-23T22:03:56.633086Z"
    },
    "papermill": {
     "duration": 0.533637,
     "end_time": "2020-11-23T22:03:56.633849",
     "exception": false,
     "start_time": "2020-11-23T22:03:56.100212",
     "status": "completed"
    },
    "tags": []
   },
   "outputs": [
    {
     "name": "stdout",
     "output_type": "stream",
     "text": [
      "[train] F1-score = 0.67 +/- 0.00\n",
      "[valid] F1-score = 0.67 +/- 0.01\n"
     ]
    },
    {
     "data": {
      "text/plain": [
       "<matplotlib.legend.Legend at 0x1e851334188>"
      ]
     },
     "execution_count": 176,
     "metadata": {},
     "output_type": "execute_result"
    },
    {
     "data": {
      "image/png": "[encoded data removed]",
      "text/plain": [
       "<Figure size 1080x360 with 1 Axes>"
      ]
     },
     "metadata": {
      "needs_background": "light"
     },
     "output_type": "display_data"
    }
   ],
   "source": [
    "avg_f1_train, std_f1_train = cv_metrics['train_score'].mean(), cv_metrics['train_score'].std()\n",
    "avg_f1_valid, std_f1_valid = cv_metrics['test_score'].mean(), cv_metrics['test_score'].std()\n",
    "print('[train] F1-score = {:.2f} +/- {:.2f}'.format(avg_f1_train, std_f1_train))\n",
    "print('[valid] F1-score = {:.2f} +/- {:.2f}'.format(avg_f1_valid, std_f1_valid))\n",
    "    \n",
    "plt.figure(figsize=(15, 5))\n",
    "\n",
    "plt.plot(cv_metrics['train_score'], label='train', marker='.')\n",
    "plt.plot(cv_metrics['test_score'], label='valid', marker='.')\n",
    "\n",
    "plt.ylim([0., 1.]);\n",
    "plt.xlabel('CV iteration', fontsize=15)\n",
    "plt.ylabel('F1-score', fontsize=15)\n",
    "plt.legend(fontsize=15)"
   ]
  },
  {
   "cell_type": "markdown",
   "metadata": {
    "papermill": {
     "duration": 0.325718,
     "end_time": "2020-11-23T22:03:57.281817",
     "exception": false,
     "start_time": "2020-11-23T22:03:56.956099",
     "status": "completed"
    },
    "tags": []
   },
   "source": [
    "Как видно модель фактически не переобучилась"
   ]
  },
  {
   "cell_type": "markdown",
   "metadata": {
    "papermill": {
     "duration": 0.327755,
     "end_time": "2020-11-23T22:03:57.935146",
     "exception": false,
     "start_time": "2020-11-23T22:03:57.607391",
     "status": "completed"
    },
    "tags": []
   },
   "source": [
    "# Вывод\n",
    "\n",
    "1. Благодоря подблору параметров удалось улучшить recall, f1 и precision\n",
    "2. Ошибка второго рода сократилась , при этом увеличилась ошибка 1 рода, которая не несет явных экономических затрат, но увеличивает не явные.\n",
    "3. На метрику ROC_AUC подбор параметров повлиял не сильно."
   ]
  },
  {
   "cell_type": "markdown",
   "metadata": {
    "papermill": {
     "duration": 0.327535,
     "end_time": "2020-11-23T22:03:58.594526",
     "exception": false,
     "start_time": "2020-11-23T22:03:58.266991",
     "status": "completed"
    },
    "tags": []
   },
   "source": [
    "# Submission"
   ]
  },
  {
   "cell_type": "code",
   "execution_count": 177,
   "metadata": {
    "execution": {
     "iopub.execute_input": "2020-11-23T22:03:59.258963Z",
     "iopub.status.busy": "2020-11-23T22:03:59.257910Z",
     "iopub.status.idle": "2020-11-23T22:03:59.261397Z",
     "shell.execute_reply": "2020-11-23T22:03:59.260659Z"
    },
    "papermill": {
     "duration": 0.341936,
     "end_time": "2020-11-23T22:03:59.261518",
     "exception": false,
     "start_time": "2020-11-23T22:03:58.919582",
     "status": "completed"
    },
    "tags": []
   },
   "outputs": [],
   "source": [
    "clf = LogisticRegression(\n",
    "    C = 0.35938136638046275,\n",
    "    class_weight = 'balanced',\n",
    "    dual = False,\n",
    "    fit_intercept = True,\n",
    "    intercept_scaling = 1,\n",
    "    l1_ratio = None,\n",
    "    max_iter = 1000,\n",
    "    multi_class = 'auto',\n",
    "    n_jobs = None,\n",
    "    penalty = 'l1',\n",
    "    random_state = 42,\n",
    "    solver = 'liblinear',\n",
    "    tol = 0.0001,\n",
    "    verbose = 0,\n",
    "    warm_start = False\n",
    ")"
   ]
  },
  {
   "cell_type": "code",
   "execution_count": 178,
   "metadata": {
    "execution": {
     "iopub.execute_input": "2020-11-23T22:03:59.930963Z",
     "iopub.status.busy": "2020-11-23T22:03:59.929669Z",
     "iopub.status.idle": "2020-11-23T22:04:05.803940Z",
     "shell.execute_reply": "2020-11-23T22:04:05.803326Z"
    },
    "papermill": {
     "duration": 6.213999,
     "end_time": "2020-11-23T22:04:05.804066",
     "exception": false,
     "start_time": "2020-11-23T22:03:59.590067",
     "status": "completed"
    },
    "tags": []
   },
   "outputs": [
    {
     "data": {
      "text/plain": [
       "LogisticRegression(C=0.35938136638046275, class_weight='balanced',\n",
       "                   max_iter=1000, penalty='l1', random_state=42,\n",
       "                   solver='liblinear')"
      ]
     },
     "execution_count": 178,
     "metadata": {},
     "output_type": "execute_result"
    }
   ],
   "source": [
    "clf.fit(X, y)"
   ]
  },
  {
   "cell_type": "code",
   "execution_count": 179,
   "metadata": {
    "execution": {
     "iopub.execute_input": "2020-11-23T22:04:06.467162Z",
     "iopub.status.busy": "2020-11-23T22:04:06.466054Z",
     "iopub.status.idle": "2020-11-23T22:04:06.910906Z",
     "shell.execute_reply": "2020-11-23T22:04:06.910101Z"
    },
    "papermill": {
     "duration": 0.780884,
     "end_time": "2020-11-23T22:04:06.911031",
     "exception": false,
     "start_time": "2020-11-23T22:04:06.130147",
     "status": "completed"
    },
    "tags": []
   },
   "outputs": [],
   "source": [
    "X_test = data_standart_test.drop(['default'], axis=1)\n",
    "y_pred_prob = clf.predict_proba(X_test)[:,1]\n",
    "\n",
    "submit = pd.DataFrame(data_test.client_id)\n",
    "submit['default']=y_pred_prob\n",
    "submit.to_csv('submission.csv', index=False)"
   ]
  }
 ],
 "metadata": {
  "kernelspec": {
   "display_name": "Python 3",
   "language": "python",
   "name": "python3"
  },
  "language_info": {
   "codemirror_mode": {
    "name": "ipython",
    "version": 3
   },
   "file_extension": ".py",
   "mimetype": "text/x-python",
   "name": "python",
   "nbconvert_exporter": "python",
   "pygments_lexer": "ipython3",
   "version": "3.7.4"
  },
  "papermill": {
   "duration": 924.591027,
   "end_time": "2020-11-23T22:04:07.346610",
   "environment_variables": {},
   "exception": null,
   "input_path": "__notebook__.ipynb",
   "output_path": "__notebook__.ipynb",
   "parameters": {},
   "start_time": "2020-11-23T21:48:42.755583",
   "version": "2.1.0"
  }
 },
 "nbformat": 4,
 "nbformat_minor": 4
}
